{
 "cells": [
  {
   "cell_type": "code",
   "execution_count": 2,
   "metadata": {
    "collapsed": true,
    "deletable": true,
    "editable": true
   },
   "outputs": [],
   "source": [
    "import numpy as np \n",
    "import pandas as pd\n",
    "import re\n",
    "from IPython.display import display, HTML\n",
    "import sklearn"
   ]
  },
  {
   "cell_type": "markdown",
   "metadata": {
    "deletable": true,
    "editable": true
   },
   "source": [
    "## Read in the data: "
   ]
  },
  {
   "cell_type": "markdown",
   "metadata": {
    "deletable": true,
    "editable": true
   },
   "source": [
    "Data has been formatted for neural nets:\n",
    "- Binary columns are encoded as -1/1 instead of as 0/1. \n",
    "- All columns are then scaled. \n",
    "- Categorical columns are one-hot encoded. \n",
    "- A few outliers removed. "
   ]
  },
  {
   "cell_type": "code",
   "execution_count": 31,
   "metadata": {
    "collapsed": false,
    "deletable": true,
    "editable": true
   },
   "outputs": [],
   "source": [
    "#note: these files do have headers \n",
    "\n",
    "train1 = pd.read_csv(\"lara_1_train.csv\")    #The training data\n",
    "test1 = pd.read_csv(\"lara_1_test.csv\")      #Holdout data for testing on Kaggle\n",
    "\n",
    "ytrain1 = pd.read_csv(\"y_1_train.csv\")      #Training labels "
   ]
  },
  {
   "cell_type": "code",
   "execution_count": 4,
   "metadata": {
    "collapsed": false,
    "deletable": true,
    "editable": true
   },
   "outputs": [],
   "source": [
    "#convert from pandas to numpy arrays:\n",
    "train1 = train1.as_matrix()\n",
    "test1 = test1.as_matrix()\n",
    "ytrain1 = np.array(ytrain1)[:,0]"
   ]
  },
  {
   "cell_type": "code",
   "execution_count": 5,
   "metadata": {
    "collapsed": false,
    "deletable": true,
    "editable": true
   },
   "outputs": [
    {
     "name": "stdout",
     "output_type": "stream",
     "text": [
      "(49352, 74)\n",
      "(74659, 74)\n",
      "(49352,)\n"
     ]
    }
   ],
   "source": [
    "print(train1.shape)\n",
    "print(test1.shape)\n",
    "print(ytrain1.shape)"
   ]
  },
  {
   "cell_type": "markdown",
   "metadata": {
    "deletable": true,
    "editable": true
   },
   "source": [
    "For train/test splitting: "
   ]
  },
  {
   "cell_type": "code",
   "execution_count": null,
   "metadata": {
    "collapsed": true,
    "deletable": true,
    "editable": true
   },
   "outputs": [],
   "source": [
    "#from sklearn.model_selection import train_test_split \n",
    "#X_train, X_test, y_train, y_test = train_test_split(train1, ytrain1)"
   ]
  },
  {
   "cell_type": "markdown",
   "metadata": {
    "deletable": true,
    "editable": true
   },
   "source": [
    "## Model 1:"
   ]
  },
  {
   "cell_type": "markdown",
   "metadata": {
    "deletable": true,
    "editable": true
   },
   "source": [
    "log loss I got from this model on Kaggle: 0.62556"
   ]
  },
  {
   "cell_type": "code",
   "execution_count": 12,
   "metadata": {
    "collapsed": true,
    "deletable": true,
    "editable": true
   },
   "outputs": [],
   "source": [
    "from sklearn.model_selection import GridSearchCV\n",
    "from sklearn.neural_network import MLPClassifier\n",
    "from sklearn.metrics import log_loss"
   ]
  },
  {
   "cell_type": "code",
   "execution_count": 14,
   "metadata": {
    "collapsed": false,
    "deletable": true,
    "editable": true
   },
   "outputs": [],
   "source": [
    "model1 = MLPClassifier(activation = 'tanh', \n",
    "                    alpha =  1.0000000000000001e-05,\n",
    "                    hidden_layer_sizes = (4,) ,\n",
    "                    solver = 'sgd' )"
   ]
  },
  {
   "cell_type": "code",
   "execution_count": 27,
   "metadata": {
    "collapsed": false,
    "deletable": true,
    "editable": true
   },
   "outputs": [],
   "source": [
    "model1.fit(train1, ytrain1)\n",
    "y_pred_mod1 = model1.predict(test1)\n",
    "y_pred_proba_mod1 = model1.predict_proba(test1)"
   ]
  },
  {
   "cell_type": "markdown",
   "metadata": {
    "deletable": true,
    "editable": true
   },
   "source": [
    "For finding the log loss on a train/test split: "
   ]
  },
  {
   "cell_type": "code",
   "execution_count": null,
   "metadata": {
    "collapsed": true,
    "deletable": true,
    "editable": true
   },
   "outputs": [],
   "source": [
    "#print(\"log loss on the test set :\")\n",
    "#log_loss(y_test, y_pred_proba_mod1)  "
   ]
  },
  {
   "cell_type": "markdown",
   "metadata": {
    "deletable": true,
    "editable": true
   },
   "source": [
    "## Model 2: "
   ]
  },
  {
   "cell_type": "markdown",
   "metadata": {},
   "source": [
    "mean cross-validated testing log loss from this model :\n",
    "0.612296414625 +/- 0.00209871497037\n",
    "\n",
    "Kaggle score: 0.61376"
   ]
  },
  {
   "cell_type": "code",
   "execution_count": null,
   "metadata": {
    "collapsed": true,
    "deletable": true,
    "editable": true
   },
   "outputs": [],
   "source": [
    "#!pip install tensorflow\n",
    "#!pip install keras"
   ]
  },
  {
   "cell_type": "code",
   "execution_count": 6,
   "metadata": {
    "collapsed": false,
    "deletable": true,
    "editable": true
   },
   "outputs": [
    {
     "name": "stderr",
     "output_type": "stream",
     "text": [
      "Using TensorFlow backend.\n"
     ]
    }
   ],
   "source": [
    "from keras.models import Sequential\n",
    "from keras.layers import Dense, Activation\n",
    "from keras.layers import Dropout\n",
    "from sklearn.model_selection import GridSearchCV\n",
    "from keras.wrappers.scikit_learn import KerasClassifier\n",
    "from keras import regularizers\n",
    "from keras import callbacks\n",
    "from keras.layers.normalization import BatchNormalization\n",
    "from keras import optimizers, initializers\n",
    "from keras.utils.np_utils import to_categorical\n",
    "from sklearn.preprocessing import StandardScaler\n",
    "\n",
    "numpy.random.seed(7)"
   ]
  },
  {
   "cell_type": "code",
   "execution_count": 7,
   "metadata": {
    "collapsed": true,
    "deletable": true,
    "editable": true
   },
   "outputs": [],
   "source": [
    "#Keras needs the labels to be in binary 0/1 vectors for each class: \n",
    "#categorical_labels_train = to_categorical(ytrain1-1, num_classes=None)"
   ]
  },
  {
   "cell_type": "code",
   "execution_count": 8,
   "metadata": {
    "collapsed": true,
    "deletable": true,
    "editable": true
   },
   "outputs": [],
   "source": [
    "#scale = StandardScaler()\n",
    "#train1 = scale.fit_transform(train1)\n",
    "#test1 = scale.fit_transform(test1)"
   ]
  },
  {
   "cell_type": "markdown",
   "metadata": {},
   "source": [
    "Import data with the above 2 steps completed:"
   ]
  },
  {
   "cell_type": "code",
   "execution_count": 43,
   "metadata": {
    "collapsed": true
   },
   "outputs": [],
   "source": [
    "train1 =  pd.read_csv(\"train1_allscaled.csv\")    #The training data\n",
    "categorical_labels_train = pd.read_csv(\"categorical_labels_train.csv\")      #Training labels \n",
    "\n",
    "test1 = pd.read_csv(\"test1_allscaled.csv\")"
   ]
  },
  {
   "cell_type": "code",
   "execution_count": 44,
   "metadata": {
    "collapsed": false
   },
   "outputs": [],
   "source": [
    "#convert from pandas to numpy arrays:\n",
    "train1 = train1.as_matrix()\n",
    "test1 = test1.as_matrix()\n",
    "categorical_labels_train = np.array(categorical_labels_train )"
   ]
  },
  {
   "cell_type": "code",
   "execution_count": 24,
   "metadata": {
    "collapsed": false
   },
   "outputs": [
    {
     "name": "stdout",
     "output_type": "stream",
     "text": [
      "(49352, 74)\n",
      "(74659, 74)\n",
      "(49352, 3)\n"
     ]
    }
   ],
   "source": [
    "print(train1.shape)\n",
    "print(test1.shape)\n",
    "print(categorical_labels_train.shape)"
   ]
  },
  {
   "cell_type": "code",
   "execution_count": 25,
   "metadata": {
    "collapsed": false,
    "deletable": true,
    "editable": true,
    "scrolled": true
   },
   "outputs": [
    {
     "name": "stdout",
     "output_type": "stream",
     "text": [
      "Epoch 1/150\n",
      "49352/49352 [==============================] - 17s - loss: 0.7510 - acc: 0.6771    \n",
      "Epoch 2/150\n",
      "49352/49352 [==============================] - 12s - loss: 0.6924 - acc: 0.6972    \n",
      "Epoch 3/150\n",
      "49352/49352 [==============================] - 12s - loss: 0.6827 - acc: 0.7007    \n",
      "Epoch 4/150\n",
      "49352/49352 [==============================] - 11s - loss: 0.6757 - acc: 0.7022    \n",
      "Epoch 5/150\n",
      "49352/49352 [==============================] - 14s - loss: 0.6710 - acc: 0.7020    \n",
      "Epoch 6/150\n",
      "49352/49352 [==============================] - 15s - loss: 0.6690 - acc: 0.7051    \n",
      "Epoch 7/150\n",
      "49352/49352 [==============================] - 12s - loss: 0.6665 - acc: 0.7064    \n",
      "Epoch 8/150\n",
      "49352/49352 [==============================] - 12s - loss: 0.6646 - acc: 0.7051    \n",
      "Epoch 9/150\n",
      "49352/49352 [==============================] - 13s - loss: 0.6636 - acc: 0.7067    \n",
      "Epoch 10/150\n",
      "49352/49352 [==============================] - 11s - loss: 0.6630 - acc: 0.7062    \n",
      "Epoch 11/150\n",
      "49352/49352 [==============================] - 14s - loss: 0.6579 - acc: 0.7084    \n",
      "Epoch 12/150\n",
      "49352/49352 [==============================] - 14s - loss: 0.6596 - acc: 0.7104    \n",
      "Epoch 13/150\n",
      "49352/49352 [==============================] - 12s - loss: 0.6585 - acc: 0.7082    \n",
      "Epoch 14/150\n",
      "49352/49352 [==============================] - 12s - loss: 0.6587 - acc: 0.7085    \n",
      "Epoch 15/150\n",
      "49352/49352 [==============================] - 12s - loss: 0.6553 - acc: 0.7097    \n",
      "Epoch 16/150\n",
      "49352/49352 [==============================] - 11s - loss: 0.6557 - acc: 0.7100    \n",
      "Epoch 17/150\n",
      "49352/49352 [==============================] - 11s - loss: 0.6525 - acc: 0.7113    \n",
      "Epoch 18/150\n",
      "49352/49352 [==============================] - 11s - loss: 0.6520 - acc: 0.7111    \n",
      "Epoch 19/150\n",
      "49352/49352 [==============================] - 12s - loss: 0.6544 - acc: 0.7112    \n",
      "Epoch 20/150\n",
      "49352/49352 [==============================] - 12s - loss: 0.6521 - acc: 0.7118    \n",
      "Epoch 21/150\n",
      "49352/49352 [==============================] - 12s - loss: 0.6520 - acc: 0.7104    \n",
      "Epoch 22/150\n",
      "49352/49352 [==============================] - 13s - loss: 0.6507 - acc: 0.7128    \n",
      "Epoch 23/150\n",
      "49352/49352 [==============================] - 14s - loss: 0.6517 - acc: 0.7114    \n",
      "Epoch 24/150\n",
      "49352/49352 [==============================] - 13s - loss: 0.6512 - acc: 0.7133    \n",
      "Epoch 25/150\n",
      "49352/49352 [==============================] - 12s - loss: 0.6497 - acc: 0.7144    \n",
      "Epoch 26/150\n",
      "49352/49352 [==============================] - 11s - loss: 0.6488 - acc: 0.7123    \n",
      "Epoch 27/150\n",
      "49352/49352 [==============================] - 11s - loss: 0.6479 - acc: 0.7130    \n",
      "Epoch 28/150\n",
      "49352/49352 [==============================] - 15s - loss: 0.6494 - acc: 0.7103    \n",
      "Epoch 29/150\n",
      "49352/49352 [==============================] - 12s - loss: 0.6485 - acc: 0.7128    \n",
      "Epoch 30/150\n",
      "49352/49352 [==============================] - 15s - loss: 0.6462 - acc: 0.7146    \n",
      "Epoch 31/150\n",
      "49352/49352 [==============================] - 11s - loss: 0.6489 - acc: 0.7119    \n",
      "Epoch 32/150\n",
      "49352/49352 [==============================] - 11s - loss: 0.6468 - acc: 0.7132    \n",
      "Epoch 33/150\n",
      "49352/49352 [==============================] - 12s - loss: 0.6471 - acc: 0.7129    \n",
      "Epoch 34/150\n",
      "49352/49352 [==============================] - 12s - loss: 0.6474 - acc: 0.7143    \n",
      "Epoch 35/150\n",
      "49352/49352 [==============================] - 14s - loss: 0.6468 - acc: 0.7173    \n",
      "Epoch 36/150\n",
      "49352/49352 [==============================] - 11s - loss: 0.6459 - acc: 0.7153    \n",
      "Epoch 37/150\n",
      "49352/49352 [==============================] - 10s - loss: 0.6450 - acc: 0.7143    \n",
      "Epoch 38/150\n",
      "49352/49352 [==============================] - 10s - loss: 0.6454 - acc: 0.7129    \n",
      "Epoch 39/150\n",
      "49352/49352 [==============================] - 10s - loss: 0.6453 - acc: 0.7130    \n",
      "Epoch 40/150\n",
      "49352/49352 [==============================] - 10s - loss: 0.6444 - acc: 0.7141    \n",
      "Epoch 41/150\n",
      "49352/49352 [==============================] - 10s - loss: 0.6461 - acc: 0.7135    \n",
      "Epoch 42/150\n",
      "49352/49352 [==============================] - 10s - loss: 0.6461 - acc: 0.7119    \n",
      "Epoch 43/150\n",
      "49352/49352 [==============================] - 10s - loss: 0.6433 - acc: 0.7168    \n",
      "Epoch 44/150\n",
      "49352/49352 [==============================] - 11s - loss: 0.6443 - acc: 0.7140    \n",
      "Epoch 45/150\n",
      "49352/49352 [==============================] - 11s - loss: 0.6435 - acc: 0.7141    \n",
      "Epoch 46/150\n",
      "49352/49352 [==============================] - 10s - loss: 0.6421 - acc: 0.7170    \n",
      "Epoch 47/150\n",
      "49352/49352 [==============================] - 10s - loss: 0.6431 - acc: 0.7163    \n",
      "Epoch 48/150\n",
      "49352/49352 [==============================] - 10s - loss: 0.6428 - acc: 0.7148    \n",
      "Epoch 49/150\n",
      "49352/49352 [==============================] - 13s - loss: 0.6433 - acc: 0.7144    \n",
      "Epoch 50/150\n",
      "49352/49352 [==============================] - 11s - loss: 0.6418 - acc: 0.7151    \n",
      "Epoch 51/150\n",
      "49352/49352 [==============================] - 11s - loss: 0.6439 - acc: 0.7151    \n",
      "Epoch 52/150\n",
      "49352/49352 [==============================] - 11s - loss: 0.6412 - acc: 0.7167    \n",
      "Epoch 53/150\n",
      "49352/49352 [==============================] - 11s - loss: 0.6406 - acc: 0.7165    \n",
      "Epoch 54/150\n",
      "49352/49352 [==============================] - 11s - loss: 0.6413 - acc: 0.7132    \n",
      "Epoch 55/150\n",
      "49352/49352 [==============================] - 11s - loss: 0.6405 - acc: 0.7164    \n",
      "Epoch 56/150\n",
      "49352/49352 [==============================] - 11s - loss: 0.6424 - acc: 0.7159    \n",
      "Epoch 57/150\n",
      "49352/49352 [==============================] - 11s - loss: 0.6402 - acc: 0.7159    \n",
      "Epoch 58/150\n",
      "49352/49352 [==============================] - 13s - loss: 0.6389 - acc: 0.7161    \n",
      "Epoch 59/150\n",
      "49352/49352 [==============================] - 12s - loss: 0.6395 - acc: 0.7166    \n",
      "Epoch 60/150\n",
      "49352/49352 [==============================] - 11s - loss: 0.6414 - acc: 0.7147    \n",
      "Epoch 61/150\n",
      "49352/49352 [==============================] - 11s - loss: 0.6405 - acc: 0.7164    \n",
      "Epoch 62/150\n",
      "49352/49352 [==============================] - 11s - loss: 0.6392 - acc: 0.7167    \n",
      "Epoch 63/150\n",
      "49352/49352 [==============================] - 11s - loss: 0.6383 - acc: 0.7160    \n",
      "Epoch 64/150\n",
      "49352/49352 [==============================] - 12s - loss: 0.6374 - acc: 0.7151    \n",
      "Epoch 65/150\n",
      "49352/49352 [==============================] - 12s - loss: 0.6428 - acc: 0.7172    \n",
      "Epoch 66/150\n",
      "49352/49352 [==============================] - 11s - loss: 0.6409 - acc: 0.7161    \n",
      "Epoch 67/150\n",
      "49352/49352 [==============================] - 12s - loss: 0.6402 - acc: 0.7162    \n",
      "Epoch 68/150\n",
      "49352/49352 [==============================] - 16s - loss: 0.6390 - acc: 0.7164    \n",
      "Epoch 69/150\n",
      "49352/49352 [==============================] - 15s - loss: 0.6381 - acc: 0.7179    \n",
      "Epoch 70/150\n",
      "49352/49352 [==============================] - 15s - loss: 0.6372 - acc: 0.7182    \n",
      "Epoch 71/150\n",
      "49352/49352 [==============================] - 18s - loss: 0.6398 - acc: 0.7165    \n",
      "Epoch 72/150\n",
      "49352/49352 [==============================] - 15s - loss: 0.6385 - acc: 0.7178    \n",
      "Epoch 73/150\n",
      "49352/49352 [==============================] - 14s - loss: 0.6370 - acc: 0.7183    \n",
      "Epoch 74/150\n",
      "49352/49352 [==============================] - 15s - loss: 0.6392 - acc: 0.7181    \n",
      "Epoch 75/150\n",
      "49352/49352 [==============================] - 14s - loss: 0.6364 - acc: 0.7193    \n",
      "Epoch 76/150\n",
      "49352/49352 [==============================] - 12s - loss: 0.6358 - acc: 0.7182    \n",
      "Epoch 77/150\n",
      "49352/49352 [==============================] - 11s - loss: 0.6384 - acc: 0.7174    \n",
      "Epoch 78/150\n",
      "49352/49352 [==============================] - 16s - loss: 0.6383 - acc: 0.7178    \n",
      "Epoch 79/150\n",
      "49352/49352 [==============================] - 12s - loss: 0.6377 - acc: 0.7161    \n",
      "Epoch 80/150\n",
      "49352/49352 [==============================] - 12s - loss: 0.6368 - acc: 0.7202    \n",
      "Epoch 81/150\n",
      "49352/49352 [==============================] - 11s - loss: 0.6379 - acc: 0.7163    \n",
      "Epoch 82/150\n",
      "49352/49352 [==============================] - 11s - loss: 0.6368 - acc: 0.7180    \n",
      "Epoch 83/150\n",
      "49352/49352 [==============================] - 12s - loss: 0.6360 - acc: 0.7195    \n",
      "Epoch 84/150\n",
      "49352/49352 [==============================] - 12s - loss: 0.6371 - acc: 0.7180    \n",
      "Epoch 85/150\n",
      "49352/49352 [==============================] - 12s - loss: 0.6365 - acc: 0.7172    \n",
      "Epoch 86/150\n",
      "49352/49352 [==============================] - 14s - loss: 0.6351 - acc: 0.7181    \n",
      "Epoch 87/150\n",
      "49352/49352 [==============================] - 12s - loss: 0.6366 - acc: 0.7174    \n",
      "Epoch 88/150\n",
      "49352/49352 [==============================] - 15s - loss: 0.6335 - acc: 0.7171    \n",
      "Epoch 89/150\n",
      "49352/49352 [==============================] - 15s - loss: 0.6349 - acc: 0.7186    \n",
      "Epoch 90/150\n",
      "49352/49352 [==============================] - 15s - loss: 0.6364 - acc: 0.7170    \n",
      "Epoch 91/150\n",
      "49352/49352 [==============================] - 15s - loss: 0.6344 - acc: 0.7175    \n",
      "Epoch 92/150\n",
      "49352/49352 [==============================] - 14s - loss: 0.6355 - acc: 0.7178    \n",
      "Epoch 93/150\n",
      "49352/49352 [==============================] - 15s - loss: 0.6338 - acc: 0.7168    \n",
      "Epoch 94/150\n",
      "49352/49352 [==============================] - 16s - loss: 0.6344 - acc: 0.7184    \n",
      "Epoch 95/150\n",
      "49352/49352 [==============================] - 15s - loss: 0.6341 - acc: 0.7193    \n",
      "Epoch 96/150\n",
      "49352/49352 [==============================] - 15s - loss: 0.6353 - acc: 0.7167    \n",
      "Epoch 97/150\n",
      "49352/49352 [==============================] - 15s - loss: 0.6354 - acc: 0.7164    \n",
      "Epoch 98/150\n",
      "49352/49352 [==============================] - 15s - loss: 0.6347 - acc: 0.7182    \n",
      "Epoch 99/150\n",
      "49352/49352 [==============================] - 15s - loss: 0.6360 - acc: 0.7163    \n",
      "Epoch 100/150\n",
      "49352/49352 [==============================] - 13s - loss: 0.6352 - acc: 0.7174    \n",
      "Epoch 101/150\n",
      "49352/49352 [==============================] - 11s - loss: 0.6354 - acc: 0.7190    \n",
      "Epoch 102/150\n",
      "49352/49352 [==============================] - 12s - loss: 0.6336 - acc: 0.7207    \n",
      "Epoch 103/150\n",
      "49352/49352 [==============================] - 13s - loss: 0.6366 - acc: 0.7182    \n",
      "Epoch 104/150\n",
      "49352/49352 [==============================] - 12s - loss: 0.6338 - acc: 0.7202    \n",
      "Epoch 105/150\n",
      "49352/49352 [==============================] - 11s - loss: 0.6353 - acc: 0.7193    \n",
      "Epoch 106/150\n",
      "49352/49352 [==============================] - 11s - loss: 0.6359 - acc: 0.7193    \n",
      "Epoch 107/150\n",
      "49352/49352 [==============================] - 11s - loss: 0.6342 - acc: 0.7200    \n",
      "Epoch 108/150\n",
      "49352/49352 [==============================] - 11s - loss: 0.6352 - acc: 0.7190    \n",
      "Epoch 109/150\n",
      "49352/49352 [==============================] - 11s - loss: 0.6348 - acc: 0.7200    \n",
      "Epoch 110/150\n",
      "49352/49352 [==============================] - 11s - loss: 0.6344 - acc: 0.7193    \n",
      "Epoch 111/150\n",
      "49352/49352 [==============================] - 11s - loss: 0.6338 - acc: 0.7182    \n",
      "Epoch 112/150\n",
      "49352/49352 [==============================] - 12s - loss: 0.6354 - acc: 0.7180    \n",
      "Epoch 113/150\n",
      "49352/49352 [==============================] - 13s - loss: 0.6350 - acc: 0.7185    \n",
      "Epoch 114/150\n",
      "49352/49352 [==============================] - 12s - loss: 0.6322 - acc: 0.7194    \n",
      "Epoch 115/150\n",
      "49352/49352 [==============================] - 12s - loss: 0.6359 - acc: 0.7209    \n",
      "Epoch 116/150\n",
      "49352/49352 [==============================] - 12s - loss: 0.6348 - acc: 0.7176    \n",
      "Epoch 117/150\n",
      "49352/49352 [==============================] - 12s - loss: 0.6330 - acc: 0.7193    \n",
      "Epoch 118/150\n",
      "49352/49352 [==============================] - 13s - loss: 0.6347 - acc: 0.7179    \n",
      "Epoch 119/150\n",
      "49352/49352 [==============================] - 13s - loss: 0.6360 - acc: 0.7189    \n",
      "Epoch 120/150\n",
      "49352/49352 [==============================] - 13s - loss: 0.6312 - acc: 0.7200    \n",
      "Epoch 121/150\n",
      "49352/49352 [==============================] - 12s - loss: 0.6338 - acc: 0.7207    \n",
      "Epoch 122/150\n",
      "49352/49352 [==============================] - 12s - loss: 0.6329 - acc: 0.7198    \n",
      "Epoch 123/150\n",
      "49352/49352 [==============================] - 13s - loss: 0.6300 - acc: 0.7216    \n",
      "Epoch 124/150\n",
      "49352/49352 [==============================] - 13s - loss: 0.6306 - acc: 0.7191    \n",
      "Epoch 125/150\n",
      "49352/49352 [==============================] - 13s - loss: 0.6327 - acc: 0.7195    \n",
      "Epoch 126/150\n",
      "49352/49352 [==============================] - 12s - loss: 0.6307 - acc: 0.7212    \n",
      "Epoch 127/150\n",
      "49352/49352 [==============================] - 12s - loss: 0.6322 - acc: 0.7186    \n",
      "Epoch 128/150\n",
      "49352/49352 [==============================] - 13s - loss: 0.6338 - acc: 0.7187    \n",
      "Epoch 129/150\n",
      "49352/49352 [==============================] - 13s - loss: 0.6325 - acc: 0.7201    \n",
      "Epoch 130/150\n",
      "49352/49352 [==============================] - 13s - loss: 0.6329 - acc: 0.7219    \n",
      "Epoch 131/150\n",
      "49352/49352 [==============================] - 13s - loss: 0.6336 - acc: 0.7198    \n",
      "Epoch 132/150\n",
      "49352/49352 [==============================] - 13s - loss: 0.6331 - acc: 0.7206    \n",
      "Epoch 133/150\n",
      "49352/49352 [==============================] - 12s - loss: 0.6338 - acc: 0.7199    \n",
      "Epoch 134/150\n",
      "49352/49352 [==============================] - 12s - loss: 0.6307 - acc: 0.7212    \n",
      "Epoch 135/150\n",
      "49352/49352 [==============================] - 12s - loss: 0.6331 - acc: 0.7193    \n",
      "Epoch 136/150\n",
      "49352/49352 [==============================] - 13s - loss: 0.6321 - acc: 0.7189    \n",
      "Epoch 137/150\n",
      "49352/49352 [==============================] - 12s - loss: 0.6318 - acc: 0.7202    \n",
      "Epoch 138/150\n",
      "49352/49352 [==============================] - 12s - loss: 0.6308 - acc: 0.7210    \n",
      "Epoch 139/150\n",
      "49352/49352 [==============================] - 13s - loss: 0.6316 - acc: 0.7211    \n",
      "Epoch 140/150\n",
      "49352/49352 [==============================] - 13s - loss: 0.6303 - acc: 0.7200    \n",
      "Epoch 141/150\n",
      "49352/49352 [==============================] - 12s - loss: 0.6334 - acc: 0.7191    \n",
      "Epoch 142/150\n",
      "49352/49352 [==============================] - 13s - loss: 0.6334 - acc: 0.7190    \n",
      "Epoch 143/150\n",
      "49352/49352 [==============================] - 12s - loss: 0.6323 - acc: 0.7213    \n",
      "Epoch 144/150\n",
      "49352/49352 [==============================] - 12s - loss: 0.6337 - acc: 0.7203    \n",
      "Epoch 145/150\n",
      "49352/49352 [==============================] - 12s - loss: 0.6306 - acc: 0.7200    \n",
      "Epoch 146/150\n",
      "49352/49352 [==============================] - 12s - loss: 0.6325 - acc: 0.7207    \n",
      "Epoch 147/150\n",
      "49352/49352 [==============================] - 13s - loss: 0.6301 - acc: 0.7214    \n",
      "Epoch 148/150\n",
      "49352/49352 [==============================] - 13s - loss: 0.6304 - acc: 0.7199    \n",
      "Epoch 149/150\n",
      "49352/49352 [==============================] - 12s - loss: 0.6315 - acc: 0.7223    \n",
      "Epoch 150/150\n",
      "49352/49352 [==============================] - 12s - loss: 0.6296 - acc: 0.7198    \n"
     ]
    },
    {
     "data": {
      "text/plain": [
       "<keras.callbacks.History at 0x20d14a9cc50>"
      ]
     },
     "execution_count": 25,
     "metadata": {},
     "output_type": "execute_result"
    }
   ],
   "source": [
    "model4 = Sequential()\n",
    "\n",
    "inshape = train1.shape[1]\n",
    "\n",
    "#Input layer: \n",
    "model4.add(Dense(50, input_dim= inshape, activation = 'tanh',         \n",
    "                #kernel_regularizer=regularizers.l2(0.001),\n",
    "                #activity_regularizer=regularizers.l1(0.001), \n",
    "                kernel_initializer= initializers.glorot_normal(seed=None)))\n",
    "                     \n",
    "model4.add(BatchNormalization())\n",
    "model4.add(Dropout(0.5))     \n",
    "\n",
    "#One hidden layer: \n",
    "model4.add(Dense(50,  activation = 'tanh',\n",
    "                #kernel_regularizer=regularizers.l2(0.001),\n",
    "                #activity_regularizer=regularizers.l1(0.001), \n",
    "                kernel_initializer= initializers.glorot_normal(seed=None)))\n",
    "model4.add(BatchNormalization())\n",
    "model4.add(Dropout(0.25))\n",
    "\n",
    "#Second hidden layer: \n",
    "model4.add(Dense(50, activation = 'tanh', \n",
    "                #kernel_regularizer=regularizers.l2(0.01),\n",
    "                #activity_regularizer=regularizers.l1(0.01), \n",
    "                kernel_initializer= initializers.glorot_normal(seed=None)))\n",
    "model4.add(BatchNormalization())\n",
    "model4.add(Dropout(0.25))\n",
    "\n",
    "#Output layer \n",
    "model4.add(Dense(3, activation='softmax',\n",
    "                #kernel_regularizer=regularizers.l2(0.01),\n",
    "                #activity_regularizer=regularizers.l1(0.01), \n",
    "                kernel_initializer= initializers.glorot_normal(seed=None)))\n",
    "\n",
    "#Setting up to optimize the weights: \n",
    "model4.compile(loss='categorical_crossentropy', optimizer='adam', metrics=['accuracy'])\n",
    "\n",
    "#change verbose to 0 to stop printing the progress: \n",
    "model4.fit(train1,categorical_labels_train, epochs=150, batch_size=10, verbose=1)\n",
    "    "
   ]
  },
  {
   "cell_type": "markdown",
   "metadata": {},
   "source": [
    "### For submitting to Kaggle: "
   ]
  },
  {
   "cell_type": "code",
   "execution_count": 45,
   "metadata": {
    "collapsed": false
   },
   "outputs": [
    {
     "name": "stdout",
     "output_type": "stream",
     "text": [
      "74624/74659 [============================>.] - ETA: 0s"
     ]
    }
   ],
   "source": [
    "y_pred_proba_holdout = model4.predict_proba(test1)\n",
    "\n",
    "holdout = pd.read_csv(\"new data/Final_Project_Variables - test.csv\")\n",
    "\n",
    "submission = pd.DataFrame({\n",
    "        \"listing_id\": holdout[\"listing_id\"],\n",
    "        \"high\": y_pred_proba_holdout[:,2],\n",
    "        \"medium\":y_pred_proba_holdout[:,1],\n",
    "        \"low\": y_pred_proba_holdout[:,0]\n",
    "    })\n",
    "\n",
    "columnsTitles=[\"listing_id\",\"high\",\"medium\",\"low\"]\n",
    "submission=submission.reindex(columns=columnsTitles)\n",
    "\n",
    "submission.to_csv('submission.csv', index=False)"
   ]
  }
 ],
 "metadata": {
  "kernelspec": {
   "display_name": "Python [Root]",
   "language": "python",
   "name": "Python [Root]"
  },
  "language_info": {
   "codemirror_mode": {
    "name": "ipython",
    "version": 3
   },
   "file_extension": ".py",
   "mimetype": "text/x-python",
   "name": "python",
   "nbconvert_exporter": "python",
   "pygments_lexer": "ipython3",
   "version": "3.5.2"
  }
 },
 "nbformat": 4,
 "nbformat_minor": 2
}
