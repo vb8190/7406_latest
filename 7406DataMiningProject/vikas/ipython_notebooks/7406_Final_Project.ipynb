{
 "cells": [
  {
   "cell_type": "code",
   "execution_count": 146,
   "metadata": {
    "_cell_guid": "61ff67fc-ab97-69fb-9a56-cdf860b57f55",
    "collapsed": false
   },
   "outputs": [],
   "source": [
    "import os\n",
    "\n",
    "mingw_path = 'C:\\\\Program Files\\\\mingw-w64\\\\x86_64-6.3.0-posix-seh-rt_v5-rev1\\\\mingw64\\\\bin';os.environ['PATH'] = mingw_path + ';' + os.environ['PATH']\n",
    "\n",
    "os.environ['PATH'] = mingw_path + ';' + os.environ['PATH']\n",
    "\n",
    "\n",
    "import numpy as np # linear algebra\n",
    "import pandas as pd\n",
    "import matplotlib.pyplot as plt\n",
    "import seaborn as sns\n",
    "\n",
    "color = sns.color_palette()\n",
    "\n",
    "%matplotlib inline\n",
    "\n",
    "pd.options.mode.chained_assignment = None  # default='warn'\n",
    "import pylab\n",
    "import calendar\n",
    "from scipy import stats\n",
    "from datetime import datetime\n",
    "\n",
    "from sklearn.ensemble import RandomForestClassifier\n",
    "from sklearn.ensemble import BaggingClassifier\n",
    "from sklearn.neighbors import KNeighborsClassifier\n",
    "from sklearn.ensemble import AdaBoostClassifier\n",
    "from sklearn.ensemble import GradientBoostingClassifier\n",
    "from sklearn import  preprocessing, ensemble\n",
    "from sklearn.model_selection import GridSearchCV\n",
    "from sklearn.model_selection import StratifiedKFold\n",
    "from xgboost import XGBClassifier\n",
    "from sklearn.cross_validation import train_test_split\n",
    "from sklearn.metrics import log_loss\n",
    "import xgboost as xgb\n",
    "from sklearn.model_selection import learning_curve\n",
    "from imblearn.over_sampling import SMOTE\n"
   ]
  },
  {
   "cell_type": "code",
   "execution_count": null,
   "metadata": {
    "collapsed": true
   },
   "outputs": [],
   "source": []
  },
  {
   "cell_type": "code",
   "execution_count": 204,
   "metadata": {
    "collapsed": false
   },
   "outputs": [],
   "source": [
    "train_df1 = pd.read_json(\"E:/GA_TECH_DataMining/project/train.json\")\n",
    "#encoder = LabelBinarizer()\n",
    "#train_y = encoder.fit_transform(y)\n",
    "#train_y = transformed_y.transform(y)\n"
   ]
  },
  {
   "cell_type": "code",
   "execution_count": 208,
   "metadata": {
    "collapsed": false
   },
   "outputs": [
    {
     "data": {
      "text/plain": [
       "<bound method Series.head of 10        1\n",
       "10000     2\n",
       "100004    0\n",
       "100007    2\n",
       "100013    2\n",
       "100014    1\n",
       "100016    2\n",
       "100020    2\n",
       "100026    1\n",
       "100027    2\n",
       "100030    2\n",
       "10004     2\n",
       "100044    0\n",
       "100048    2\n",
       "10005     2\n",
       "100051    1\n",
       "100052    2\n",
       "100053    2\n",
       "100055    2\n",
       "100058    2\n",
       "100062    2\n",
       "100063    1\n",
       "100065    2\n",
       "100066    2\n",
       "10007     1\n",
       "100071    2\n",
       "100075    1\n",
       "100076    2\n",
       "100079    0\n",
       "100081    2\n",
       "         ..\n",
       "99915     2\n",
       "99917     2\n",
       "99919     1\n",
       "99921     1\n",
       "99923     2\n",
       "99924     2\n",
       "99931     2\n",
       "99933     2\n",
       "99935     2\n",
       "99937     2\n",
       "9994      2\n",
       "99953     2\n",
       "99956     2\n",
       "99960     1\n",
       "99961     2\n",
       "99964     1\n",
       "99965     2\n",
       "99966     2\n",
       "99979     2\n",
       "99980     2\n",
       "99982     0\n",
       "99984     2\n",
       "99986     2\n",
       "99987     2\n",
       "99988     1\n",
       "9999      1\n",
       "99991     2\n",
       "99992     2\n",
       "99993     2\n",
       "99994     2\n",
       "Name: interest_level, dtype: int64>"
      ]
     },
     "execution_count": 208,
     "metadata": {},
     "output_type": "execute_result"
    }
   ],
   "source": [
    "target_num_map = {'high':0, 'medium':1, 'low':2}\n",
    "train_y2 = np.array(train_df1['interest_level'].apply(lambda x: target_num_map[x]))\n",
    "#X.head()\n",
    "#y.head()\n",
    "train_y2\n",
    "tdf = train_df1['interest_level'].apply(lambda x: target_num_map[x])\n",
    "tdf.head"
   ]
  },
  {
   "cell_type": "code",
   "execution_count": 149,
   "metadata": {
    "_cell_guid": "f13a66ea-b17a-2d32-11f5-c2b814a7591a",
    "collapsed": false
   },
   "outputs": [
    {
     "data": {
      "text/plain": [
       "(124011, 825)"
      ]
     },
     "execution_count": 149,
     "metadata": {},
     "output_type": "execute_result"
    }
   ],
   "source": [
    "#train_df = pd.read_json(\"E:/GA_TECH_DataMining/project/train.json\")\n",
    "#type(train_df)\n",
    "train_df1 = pd.read_csv(\"E:/GA_TECH_DataMining/project/Final_Project_Variables - combined.csv\")\n",
    "\n",
    "#train_df = train_df1[train_df1.interest_code.notnull()]\n",
    "#train_df.head()\n",
    "#train_df.features.head(10)\n",
    "#df = train_df.features.to_frame\n",
    "#type(df)\n",
    "#train_df.features.index"
   ]
  },
  {
   "cell_type": "code",
   "execution_count": 151,
   "metadata": {
    "collapsed": false
   },
   "outputs": [
    {
     "data": {
      "text/plain": [
       "(124011, 825)"
      ]
     },
     "execution_count": 151,
     "metadata": {},
     "output_type": "execute_result"
    }
   ],
   "source": [
    "train_df1.shape\n",
    "#train_df.shape"
   ]
  },
  {
   "cell_type": "code",
   "execution_count": 178,
   "metadata": {
    "collapsed": false
   },
   "outputs": [],
   "source": [
    "test_df = train_df1[train_df1.interest_code.isnull()]\n",
    "train_df = train_df1[train_df1.interest_code.notnull()]\n",
    "\n"
   ]
  },
  {
   "cell_type": "code",
   "execution_count": 179,
   "metadata": {
    "collapsed": false
   },
   "outputs": [
    {
     "data": {
      "text/plain": [
       "(74659, 825)"
      ]
     },
     "execution_count": 179,
     "metadata": {},
     "output_type": "execute_result"
    }
   ],
   "source": [
    "train_df.shape\n",
    "test_df.shape"
   ]
  },
  {
   "cell_type": "code",
   "execution_count": 163,
   "metadata": {
    "collapsed": false
   },
   "outputs": [
    {
     "data": {
      "text/plain": [
       "NaN     74659\n",
       " 1.0    34284\n",
       " 2.0    11229\n",
       " 3.0     3839\n",
       "Name: interest_code, dtype: int64"
      ]
     },
     "execution_count": 163,
     "metadata": {},
     "output_type": "execute_result"
    }
   ],
   "source": [
    "train_df1.interest_code.value_counts(dropna=False)"
   ]
  },
  {
   "cell_type": "code",
   "execution_count": 166,
   "metadata": {
    "collapsed": true
   },
   "outputs": [],
   "source": [
    "train_df2 = pd.read_csv(\"E:/GA_TECH_DataMining/project/Final_Project_Variables - train.csv\")"
   ]
  },
  {
   "cell_type": "code",
   "execution_count": 168,
   "metadata": {
    "collapsed": false
   },
   "outputs": [
    {
     "data": {
      "text/plain": [
       "(49352, 825)"
      ]
     },
     "execution_count": 168,
     "metadata": {},
     "output_type": "execute_result"
    }
   ],
   "source": [
    "train_df2.shape"
   ]
  },
  {
   "cell_type": "code",
   "execution_count": 165,
   "metadata": {
    "collapsed": true
   },
   "outputs": [],
   "source": [
    "train_df3 = pd.read_csv(\"E:/GA_TECH_DataMining/project/Final_Project_Variables - test.csv\")"
   ]
  },
  {
   "cell_type": "code",
   "execution_count": 169,
   "metadata": {
    "collapsed": false
   },
   "outputs": [
    {
     "data": {
      "text/plain": [
       "(74659, 825)"
      ]
     },
     "execution_count": 169,
     "metadata": {},
     "output_type": "execute_result"
    }
   ],
   "source": [
    "train_df3.shape"
   ]
  },
  {
   "cell_type": "code",
   "execution_count": 118,
   "metadata": {
    "collapsed": false
   },
   "outputs": [
    {
     "data": {
      "text/plain": [
       "4         2.0\n",
       "6         1.0\n",
       "9         2.0\n",
       "10        2.0\n",
       "15        1.0\n",
       "16        1.0\n",
       "18        1.0\n",
       "19        3.0\n",
       "23        1.0\n",
       "32        1.0\n",
       "33        1.0\n",
       "36        1.0\n",
       "38        2.0\n",
       "39        1.0\n",
       "42        1.0\n",
       "43        1.0\n",
       "44        1.0\n",
       "46        3.0\n",
       "49        1.0\n",
       "61        1.0\n",
       "66        1.0\n",
       "67        1.0\n",
       "69        1.0\n",
       "74        1.0\n",
       "78        2.0\n",
       "80        1.0\n",
       "82        1.0\n",
       "83        1.0\n",
       "84        1.0\n",
       "85        1.0\n",
       "         ... \n",
       "123951    1.0\n",
       "123953    1.0\n",
       "123958    1.0\n",
       "123961    1.0\n",
       "123963    2.0\n",
       "123964    1.0\n",
       "123965    1.0\n",
       "123966    1.0\n",
       "123970    2.0\n",
       "123972    2.0\n",
       "123975    1.0\n",
       "123976    1.0\n",
       "123977    1.0\n",
       "123979    1.0\n",
       "123980    1.0\n",
       "123982    1.0\n",
       "123984    1.0\n",
       "123985    1.0\n",
       "123986    1.0\n",
       "123987    3.0\n",
       "123991    2.0\n",
       "123992    1.0\n",
       "123995    2.0\n",
       "123996    1.0\n",
       "123998    1.0\n",
       "124000    1.0\n",
       "124002    2.0\n",
       "124004    2.0\n",
       "124008    2.0\n",
       "124009    3.0\n",
       "Name: interest_code, dtype: float64"
      ]
     },
     "execution_count": 118,
     "metadata": {},
     "output_type": "execute_result"
    }
   ],
   "source": [
    "train_df['interest_code']"
   ]
  },
  {
   "cell_type": "code",
   "execution_count": 3,
   "metadata": {
    "_cell_guid": "a0f70f1f-64e6-c76b-542e-ee27f27a69f4",
    "collapsed": false
   },
   "outputs": [
    {
     "name": "stdout",
     "output_type": "stream",
     "text": [
      "('Train Rows : ', 49352)\n",
      "('Test Rows : ', 74659)\n"
     ]
    }
   ],
   "source": [
    "test_df = pd.read_json(\"E:/GA_TECH_DataMining/project/test.json\")\n",
    "print(\"Train Rows : \", train_df.shape[0])\n",
    "print(\"Test Rows : \", test_df.shape[0])\n",
    "\n",
    "\n"
   ]
  },
  {
   "cell_type": "code",
   "execution_count": 9,
   "metadata": {
    "collapsed": false
   },
   "outputs": [
    {
     "data": {
      "text/plain": [
       "(49352, 15)"
      ]
     },
     "execution_count": 9,
     "metadata": {},
     "output_type": "execute_result"
    }
   ],
   "source": [
    "train_df.shape"
   ]
  },
  {
   "cell_type": "code",
   "execution_count": 10,
   "metadata": {
    "collapsed": false
   },
   "outputs": [
    {
     "data": {
      "text/plain": [
       "(74659, 14)"
      ]
     },
     "execution_count": 10,
     "metadata": {},
     "output_type": "execute_result"
    }
   ],
   "source": [
    "test_df.shape"
   ]
  },
  {
   "cell_type": "code",
   "execution_count": 11,
   "metadata": {
    "collapsed": false
   },
   "outputs": [
    {
     "name": "stdout",
     "output_type": "stream",
     "text": [
      "<class 'pandas.core.frame.DataFrame'>\n",
      "Float64Index: 49352 entries, 10.0 to 99994.0\n",
      "Data columns (total 15 columns):\n",
      "bathrooms          49352 non-null float64\n",
      "bedrooms           49352 non-null int64\n",
      "building_id        49352 non-null object\n",
      "created            49352 non-null object\n",
      "description        49352 non-null object\n",
      "display_address    49352 non-null object\n",
      "features           49352 non-null object\n",
      "interest_level     49352 non-null object\n",
      "latitude           49352 non-null float64\n",
      "listing_id         49352 non-null int64\n",
      "longitude          49352 non-null float64\n",
      "manager_id         49352 non-null object\n",
      "photos             49352 non-null object\n",
      "price              49352 non-null int64\n",
      "street_address     49352 non-null object\n",
      "dtypes: float64(3), int64(3), object(9)\n",
      "memory usage: 6.0+ MB\n"
     ]
    }
   ],
   "source": [
    "#info method provides information about dataset like \n",
    "#total values in each column, null/not null, datatype, memory occupied etc\n",
    "train_df.info()"
   ]
  },
  {
   "cell_type": "code",
   "execution_count": 12,
   "metadata": {
    "collapsed": false
   },
   "outputs": [
    {
     "data": {
      "text/plain": [
       "float64    3\n",
       "int64      3\n",
       "object     9\n",
       "dtype: int64"
      ]
     },
     "execution_count": 12,
     "metadata": {},
     "output_type": "execute_result"
    }
   ],
   "source": [
    "#How many columns with different datatypes are there?\n",
    "train_df.get_dtype_counts()"
   ]
  },
  {
   "cell_type": "code",
   "execution_count": 7,
   "metadata": {
    "collapsed": false
   },
   "outputs": [
    {
     "data": {
      "text/html": [
       "<div>\n",
       "<table border=\"1\" class=\"dataframe\">\n",
       "  <thead>\n",
       "    <tr style=\"text-align: right;\">\n",
       "      <th></th>\n",
       "      <th>bathrooms</th>\n",
       "      <th>bedrooms</th>\n",
       "      <th>latitude</th>\n",
       "      <th>listing_id</th>\n",
       "      <th>longitude</th>\n",
       "      <th>price</th>\n",
       "    </tr>\n",
       "  </thead>\n",
       "  <tbody>\n",
       "    <tr>\n",
       "      <th>count</th>\n",
       "      <td>49352.00000</td>\n",
       "      <td>49352.000000</td>\n",
       "      <td>49352.000000</td>\n",
       "      <td>49352.000000</td>\n",
       "      <td>49352.000000</td>\n",
       "      <td>49352.000000</td>\n",
       "    </tr>\n",
       "    <tr>\n",
       "      <th>mean</th>\n",
       "      <td>1.21218</td>\n",
       "      <td>1.541640</td>\n",
       "      <td>40.741545</td>\n",
       "      <td>7024054.655394</td>\n",
       "      <td>-73.955716</td>\n",
       "      <td>3830.174036</td>\n",
       "    </tr>\n",
       "    <tr>\n",
       "      <th>std</th>\n",
       "      <td>0.50142</td>\n",
       "      <td>1.115018</td>\n",
       "      <td>0.638535</td>\n",
       "      <td>126274.611244</td>\n",
       "      <td>1.177912</td>\n",
       "      <td>22066.865885</td>\n",
       "    </tr>\n",
       "    <tr>\n",
       "      <th>min</th>\n",
       "      <td>0.00000</td>\n",
       "      <td>0.000000</td>\n",
       "      <td>0.000000</td>\n",
       "      <td>6811957.000000</td>\n",
       "      <td>-118.271000</td>\n",
       "      <td>43.000000</td>\n",
       "    </tr>\n",
       "    <tr>\n",
       "      <th>25%</th>\n",
       "      <td>1.00000</td>\n",
       "      <td>1.000000</td>\n",
       "      <td>40.728300</td>\n",
       "      <td>6915887.500000</td>\n",
       "      <td>-73.991700</td>\n",
       "      <td>2500.000000</td>\n",
       "    </tr>\n",
       "    <tr>\n",
       "      <th>50%</th>\n",
       "      <td>1.00000</td>\n",
       "      <td>1.000000</td>\n",
       "      <td>40.751800</td>\n",
       "      <td>7021070.500000</td>\n",
       "      <td>-73.977900</td>\n",
       "      <td>3150.000000</td>\n",
       "    </tr>\n",
       "    <tr>\n",
       "      <th>75%</th>\n",
       "      <td>1.00000</td>\n",
       "      <td>2.000000</td>\n",
       "      <td>40.774300</td>\n",
       "      <td>7128733.250000</td>\n",
       "      <td>-73.954800</td>\n",
       "      <td>4100.000000</td>\n",
       "    </tr>\n",
       "    <tr>\n",
       "      <th>max</th>\n",
       "      <td>10.00000</td>\n",
       "      <td>8.000000</td>\n",
       "      <td>44.883500</td>\n",
       "      <td>7753784.000000</td>\n",
       "      <td>0.000000</td>\n",
       "      <td>4490000.000000</td>\n",
       "    </tr>\n",
       "  </tbody>\n",
       "</table>\n",
       "</div>"
      ],
      "text/plain": [
       "         bathrooms      bedrooms      latitude      listing_id     longitude  \\\n",
       "count  49352.00000  49352.000000  49352.000000    49352.000000  49352.000000   \n",
       "mean       1.21218      1.541640     40.741545  7024054.655394    -73.955716   \n",
       "std        0.50142      1.115018      0.638535   126274.611244      1.177912   \n",
       "min        0.00000      0.000000      0.000000  6811957.000000   -118.271000   \n",
       "25%        1.00000      1.000000     40.728300  6915887.500000    -73.991700   \n",
       "50%        1.00000      1.000000     40.751800  7021070.500000    -73.977900   \n",
       "75%        1.00000      2.000000     40.774300  7128733.250000    -73.954800   \n",
       "max       10.00000      8.000000     44.883500  7753784.000000      0.000000   \n",
       "\n",
       "                price  \n",
       "count    49352.000000  \n",
       "mean      3830.174036  \n",
       "std      22066.865885  \n",
       "min         43.000000  \n",
       "25%       2500.000000  \n",
       "50%       3150.000000  \n",
       "75%       4100.000000  \n",
       "max    4490000.000000  "
      ]
     },
     "execution_count": 7,
     "metadata": {},
     "output_type": "execute_result"
    }
   ],
   "source": [
    "##Describe gives statistical information about numerical columns in the dataset\n",
    "train_df.describe()"
   ]
  },
  {
   "cell_type": "code",
   "execution_count": 16,
   "metadata": {
    "collapsed": false
   },
   "outputs": [
    {
     "data": {
      "text/plain": [
       "10                                                       []\n",
       "10000     [Doorman, Elevator, Fitness Center, Cats Allow...\n",
       "100004    [Laundry In Building, Dishwasher, Hardwood Flo...\n",
       "100007                            [Hardwood Floors, No Fee]\n",
       "100013                                            [Pre-War]\n",
       "100014                                                   []\n",
       "100016    [prewar, elevator, Dogs Allowed, Cats Allowed,...\n",
       "100020    [Doorman, Elevator, Pre-War, Terrace, Laundry ...\n",
       "Name: features, dtype: object"
      ]
     },
     "execution_count": 16,
     "metadata": {},
     "output_type": "execute_result"
    }
   ],
   "source": [
    "train_df.features.head(8)"
   ]
  },
  {
   "cell_type": "markdown",
   "metadata": {
    "_cell_guid": "b226fffa-5e52-e9b2-266f-d732599081c6"
   },
   "source": [
    "**Target Variable**\n",
    "\n",
    "Before delving more into the features, let us first have a look at the target variable 'interest level'"
   ]
  },
  {
   "cell_type": "code",
   "execution_count": 6,
   "metadata": {
    "_cell_guid": "2c0c7d1a-4a2e-b916-e4fd-291d29956081",
    "collapsed": false
   },
   "outputs": [
    {
     "data": {
      "image/png": "[encoded data removed]",
      "text/plain": [
       "<matplotlib.figure.Figure at 0x42552828>"
      ]
     },
     "metadata": {},
     "output_type": "display_data"
    }
   ],
   "source": [
    "int_level = train_df['interest_level'].value_counts()\n",
    "\n",
    "plt.figure(figsize=(8,4))\n",
    "sns.barplot(int_level.index, int_level.values, alpha=0.8, color=color[1])\n",
    "plt.ylabel('Number of Occurrences', fontsize=12)\n",
    "plt.xlabel('Interest level', fontsize=12)\n",
    "plt.show()"
   ]
  },
  {
   "cell_type": "code",
   "execution_count": 8,
   "metadata": {
    "collapsed": false
   },
   "outputs": [
    {
     "data": {
      "image/png": "[encoded data removed]",
      "text/plain": [
       "<matplotlib.figure.Figure at 0x3b7ec18>"
      ]
     },
     "metadata": {},
     "output_type": "display_data"
    }
   ],
   "source": [
    "#target variable\n",
    "labels = [\"low\",\"medium\",\"high\"]\n",
    "sizes = train_df.interest_level.value_counts().values\n",
    "explode=[0.1,0,0]\n",
    "colors = ['lightcoral','gold','lightblue']\n",
    "patches, texts,autotexts= plt.pie(sizes, labels=labels,colors=colors,explode=explode,autopct=\"%1.1f%%\",\n",
    "                        startangle=90)\n",
    "plt.title(\"Interest Level\")\n",
    "plt.show()"
   ]
  },
  {
   "cell_type": "markdown",
   "metadata": {
    "_cell_guid": "9bcd583c-e652-f3e5-b5b4-f9d9e7ddfbed"
   },
   "source": [
    "Interest level is low for most of the cases followed by medium."
   ]
  },
  {
   "cell_type": "code",
   "execution_count": 10,
   "metadata": {
    "_cell_guid": "d966e599-8304-460e-0454-8549a4f66d86",
    "collapsed": false
   },
   "outputs": [
    {
     "data": {
      "image/png": "[encoded data removed]",
      "text/plain": [
       "<matplotlib.figure.Figure at 0x496b8cf8>"
      ]
     },
     "metadata": {},
     "output_type": "display_data"
    }
   ],
   "source": [
    "cnt_srs = train_df['bathrooms'].value_counts()\n",
    "\n",
    "plt.figure(figsize=(8,4))\n",
    "sns.barplot(cnt_srs.index, cnt_srs.values, alpha=0.8, color=color[0])\n",
    "plt.ylabel('Number of Occurrences', fontsize=12)\n",
    "plt.xlabel('bathrooms', fontsize=12)\n",
    "plt.show()\n"
   ]
  },
  {
   "cell_type": "code",
   "execution_count": 13,
   "metadata": {
    "collapsed": false
   },
   "outputs": [
    {
     "data": {
      "text/plain": [
       "1.0     39422\n",
       "2.0      7660\n",
       "3.0       745\n",
       "1.5       645\n",
       "0.0       313\n",
       "2.5       277\n",
       "4.0       159\n",
       "3.5        70\n",
       "4.5        29\n",
       "5.0        20\n",
       "5.5         5\n",
       "6.0         4\n",
       "6.5         1\n",
       "10.0        1\n",
       "7.0         1\n",
       "Name: bathrooms, dtype: int64"
      ]
     },
     "execution_count": 13,
     "metadata": {},
     "output_type": "execute_result"
    }
   ],
   "source": [
    "cnt_srs"
   ]
  },
  {
   "cell_type": "code",
   "execution_count": 30,
   "metadata": {
    "collapsed": false
   },
   "outputs": [
    {
     "data": {
      "text/plain": [
       "interest_level  bathrooms\n",
       "high            1.0           3413\n",
       "                2.0            407\n",
       "                3.0             18\n",
       "                0.0              1\n",
       "low             1.0          26581\n",
       "                2.0           5566\n",
       "                3.0            952\n",
       "                1.5            605\n",
       "                0.0            306\n",
       "                2.5            274\n",
       "medium          1.0           9428\n",
       "                2.0           1687\n",
       "                3.0             65\n",
       "                1.5             40\n",
       "                0.0              6\n",
       "                2.5              3\n",
       "dtype: int64"
      ]
     },
     "execution_count": 30,
     "metadata": {},
     "output_type": "execute_result"
    }
   ],
   "source": [
    "train_df.groupby('interest_level').bathrooms.value_counts()"
   ]
  },
  {
   "cell_type": "code",
   "execution_count": 42,
   "metadata": {
    "collapsed": true
   },
   "outputs": [],
   "source": [
    "from sklearn.metrics import accuracy_score, log_loss"
   ]
  },
  {
   "cell_type": "code",
   "execution_count": 183,
   "metadata": {
    "collapsed": false
   },
   "outputs": [
    {
     "data": {
      "text/html": [
       "<div>\n",
       "<table border=\"1\" class=\"dataframe\">\n",
       "  <thead>\n",
       "    <tr style=\"text-align: right;\">\n",
       "      <th></th>\n",
       "      <th>observation</th>\n",
       "      <th>listing_id</th>\n",
       "      <th>interest_code</th>\n",
       "      <th>days_between_adj_5</th>\n",
       "      <th>log_price_adj_3</th>\n",
       "      <th>interest_adj_13</th>\n",
       "      <th>feature_count_adj_25</th>\n",
       "      <th>bathrooms_adj_4</th>\n",
       "      <th>descript_len_adj_11</th>\n",
       "      <th>bedrooms_adj_3</th>\n",
       "      <th>...</th>\n",
       "      <th>bathrooms_adj_21</th>\n",
       "      <th>bathrooms_adj_22</th>\n",
       "      <th>bathrooms_adj_23</th>\n",
       "      <th>bathrooms_adj_24</th>\n",
       "      <th>bathrooms_adj_25</th>\n",
       "      <th>bathrooms_adj_26</th>\n",
       "      <th>bathrooms_adj_27</th>\n",
       "      <th>bathrooms_adj_28</th>\n",
       "      <th>bathrooms_adj_29</th>\n",
       "      <th>bathrooms_adj_30</th>\n",
       "    </tr>\n",
       "  </thead>\n",
       "  <tbody>\n",
       "    <tr>\n",
       "      <th>4</th>\n",
       "      <td>4</td>\n",
       "      <td>7170325</td>\n",
       "      <td>2.0</td>\n",
       "      <td>1318</td>\n",
       "      <td>23.485804</td>\n",
       "      <td>19</td>\n",
       "      <td>130</td>\n",
       "      <td>4.0</td>\n",
       "      <td>5398</td>\n",
       "      <td>4</td>\n",
       "      <td>...</td>\n",
       "      <td>21.0</td>\n",
       "      <td>22.0</td>\n",
       "      <td>23.0</td>\n",
       "      <td>24.0</td>\n",
       "      <td>25.0</td>\n",
       "      <td>26.0</td>\n",
       "      <td>27.0</td>\n",
       "      <td>28.0</td>\n",
       "      <td>29.0</td>\n",
       "      <td>30.0</td>\n",
       "    </tr>\n",
       "    <tr>\n",
       "      <th>6</th>\n",
       "      <td>6</td>\n",
       "      <td>7092344</td>\n",
       "      <td>1.0</td>\n",
       "      <td>1173</td>\n",
       "      <td>24.941265</td>\n",
       "      <td>18</td>\n",
       "      <td>168</td>\n",
       "      <td>6.0</td>\n",
       "      <td>7174</td>\n",
       "      <td>7</td>\n",
       "      <td>...</td>\n",
       "      <td>23.0</td>\n",
       "      <td>24.0</td>\n",
       "      <td>26.0</td>\n",
       "      <td>27.0</td>\n",
       "      <td>28.0</td>\n",
       "      <td>29.0</td>\n",
       "      <td>30.0</td>\n",
       "      <td>31.0</td>\n",
       "      <td>33.0</td>\n",
       "      <td>34.0</td>\n",
       "    </tr>\n",
       "    <tr>\n",
       "      <th>9</th>\n",
       "      <td>9</td>\n",
       "      <td>7158677</td>\n",
       "      <td>2.0</td>\n",
       "      <td>1170</td>\n",
       "      <td>24.302001</td>\n",
       "      <td>21</td>\n",
       "      <td>127</td>\n",
       "      <td>4.0</td>\n",
       "      <td>6583</td>\n",
       "      <td>5</td>\n",
       "      <td>...</td>\n",
       "      <td>25.0</td>\n",
       "      <td>26.0</td>\n",
       "      <td>27.0</td>\n",
       "      <td>28.0</td>\n",
       "      <td>31.0</td>\n",
       "      <td>34.0</td>\n",
       "      <td>35.0</td>\n",
       "      <td>36.0</td>\n",
       "      <td>37.0</td>\n",
       "      <td>38.0</td>\n",
       "    </tr>\n",
       "    <tr>\n",
       "      <th>10</th>\n",
       "      <td>10</td>\n",
       "      <td>7211212</td>\n",
       "      <td>2.0</td>\n",
       "      <td>1189</td>\n",
       "      <td>23.654460</td>\n",
       "      <td>15</td>\n",
       "      <td>46</td>\n",
       "      <td>4.5</td>\n",
       "      <td>5388</td>\n",
       "      <td>5</td>\n",
       "      <td>...</td>\n",
       "      <td>23.0</td>\n",
       "      <td>24.0</td>\n",
       "      <td>25.0</td>\n",
       "      <td>26.0</td>\n",
       "      <td>27.0</td>\n",
       "      <td>28.0</td>\n",
       "      <td>29.0</td>\n",
       "      <td>30.0</td>\n",
       "      <td>31.0</td>\n",
       "      <td>32.0</td>\n",
       "    </tr>\n",
       "    <tr>\n",
       "      <th>15</th>\n",
       "      <td>15</td>\n",
       "      <td>7225292</td>\n",
       "      <td>1.0</td>\n",
       "      <td>1207</td>\n",
       "      <td>25.326354</td>\n",
       "      <td>17</td>\n",
       "      <td>195</td>\n",
       "      <td>6.0</td>\n",
       "      <td>6230</td>\n",
       "      <td>5</td>\n",
       "      <td>...</td>\n",
       "      <td>24.0</td>\n",
       "      <td>25.0</td>\n",
       "      <td>26.0</td>\n",
       "      <td>27.0</td>\n",
       "      <td>28.0</td>\n",
       "      <td>29.0</td>\n",
       "      <td>30.0</td>\n",
       "      <td>31.0</td>\n",
       "      <td>32.0</td>\n",
       "      <td>33.0</td>\n",
       "    </tr>\n",
       "  </tbody>\n",
       "</table>\n",
       "<p>5 rows × 825 columns</p>\n",
       "</div>"
      ],
      "text/plain": [
       "    observation  listing_id  interest_code  days_between_adj_5  \\\n",
       "4             4     7170325            2.0                1318   \n",
       "6             6     7092344            1.0                1173   \n",
       "9             9     7158677            2.0                1170   \n",
       "10           10     7211212            2.0                1189   \n",
       "15           15     7225292            1.0                1207   \n",
       "\n",
       "    log_price_adj_3  interest_adj_13  feature_count_adj_25  bathrooms_adj_4  \\\n",
       "4         23.485804               19                   130              4.0   \n",
       "6         24.941265               18                   168              6.0   \n",
       "9         24.302001               21                   127              4.0   \n",
       "10        23.654460               15                    46              4.5   \n",
       "15        25.326354               17                   195              6.0   \n",
       "\n",
       "    descript_len_adj_11  bedrooms_adj_3        ...         bathrooms_adj_21  \\\n",
       "4                  5398               4        ...                     21.0   \n",
       "6                  7174               7        ...                     23.0   \n",
       "9                  6583               5        ...                     25.0   \n",
       "10                 5388               5        ...                     23.0   \n",
       "15                 6230               5        ...                     24.0   \n",
       "\n",
       "    bathrooms_adj_22  bathrooms_adj_23  bathrooms_adj_24  bathrooms_adj_25  \\\n",
       "4               22.0              23.0              24.0              25.0   \n",
       "6               24.0              26.0              27.0              28.0   \n",
       "9               26.0              27.0              28.0              31.0   \n",
       "10              24.0              25.0              26.0              27.0   \n",
       "15              25.0              26.0              27.0              28.0   \n",
       "\n",
       "    bathrooms_adj_26  bathrooms_adj_27  bathrooms_adj_28  bathrooms_adj_29  \\\n",
       "4               26.0              27.0              28.0              29.0   \n",
       "6               29.0              30.0              31.0              33.0   \n",
       "9               34.0              35.0              36.0              37.0   \n",
       "10              28.0              29.0              30.0              31.0   \n",
       "15              29.0              30.0              31.0              32.0   \n",
       "\n",
       "    bathrooms_adj_30  \n",
       "4               30.0  \n",
       "6               34.0  \n",
       "9               38.0  \n",
       "10              32.0  \n",
       "15              33.0  \n",
       "\n",
       "[5 rows x 825 columns]"
      ]
     },
     "execution_count": 183,
     "metadata": {},
     "output_type": "execute_result"
    }
   ],
   "source": [
    "#train_df[\"created\"] = pd.to_datetime(train_df[\"created\"])\n",
    "#train_df = train_df[train_df[\"latitude\"] != 0]\n",
    "#train_df = train_df[train_df[\"longitude\"] != 0]\n",
    "features = [\"log_price_adj\",\"bathrooms_z\", \"bedrooms_z\", \"latitude_z\", \"longitude_z\", \"cluster\",\"interest_adj\"]\n",
    "train_df.columns\n",
    "train_df.head()\n"
   ]
  },
  {
   "cell_type": "code",
   "execution_count": 190,
   "metadata": {
    "collapsed": false
   },
   "outputs": [
    {
     "data": {
      "text/html": [
       "<div>\n",
       "<table border=\"1\" class=\"dataframe\">\n",
       "  <thead>\n",
       "    <tr style=\"text-align: right;\">\n",
       "      <th></th>\n",
       "      <th>days_between_adj_5</th>\n",
       "      <th>log_price_adj_3</th>\n",
       "      <th>interest_adj_13</th>\n",
       "      <th>feature_count_adj_25</th>\n",
       "      <th>bathrooms_adj_4</th>\n",
       "      <th>descript_len_adj_11</th>\n",
       "      <th>bedrooms_adj_3</th>\n",
       "      <th>mgmt_list_count</th>\n",
       "      <th>feature_count</th>\n",
       "      <th>descript_len</th>\n",
       "      <th>...</th>\n",
       "      <th>Gym</th>\n",
       "      <th>Parking</th>\n",
       "      <th>Storage</th>\n",
       "      <th>Sunlight</th>\n",
       "      <th>Pool</th>\n",
       "      <th>Laundry_Room</th>\n",
       "      <th>Wash_Dry</th>\n",
       "      <th>Dishwasher</th>\n",
       "      <th>Prewar</th>\n",
       "      <th>AirCon</th>\n",
       "    </tr>\n",
       "  </thead>\n",
       "  <tbody>\n",
       "    <tr>\n",
       "      <th>4</th>\n",
       "      <td>1318</td>\n",
       "      <td>23.485804</td>\n",
       "      <td>19</td>\n",
       "      <td>130</td>\n",
       "      <td>4.0</td>\n",
       "      <td>5398</td>\n",
       "      <td>4</td>\n",
       "      <td>294</td>\n",
       "      <td>7</td>\n",
       "      <td>530</td>\n",
       "      <td>...</td>\n",
       "      <td>0</td>\n",
       "      <td>0</td>\n",
       "      <td>0</td>\n",
       "      <td>0</td>\n",
       "      <td>0</td>\n",
       "      <td>1</td>\n",
       "      <td>0</td>\n",
       "      <td>1</td>\n",
       "      <td>1</td>\n",
       "      <td>0</td>\n",
       "    </tr>\n",
       "    <tr>\n",
       "      <th>6</th>\n",
       "      <td>1173</td>\n",
       "      <td>24.941265</td>\n",
       "      <td>18</td>\n",
       "      <td>168</td>\n",
       "      <td>6.0</td>\n",
       "      <td>7174</td>\n",
       "      <td>7</td>\n",
       "      <td>64</td>\n",
       "      <td>6</td>\n",
       "      <td>804</td>\n",
       "      <td>...</td>\n",
       "      <td>0</td>\n",
       "      <td>0</td>\n",
       "      <td>0</td>\n",
       "      <td>0</td>\n",
       "      <td>0</td>\n",
       "      <td>1</td>\n",
       "      <td>0</td>\n",
       "      <td>1</td>\n",
       "      <td>0</td>\n",
       "      <td>0</td>\n",
       "    </tr>\n",
       "    <tr>\n",
       "      <th>9</th>\n",
       "      <td>1170</td>\n",
       "      <td>24.302001</td>\n",
       "      <td>21</td>\n",
       "      <td>127</td>\n",
       "      <td>4.0</td>\n",
       "      <td>6583</td>\n",
       "      <td>5</td>\n",
       "      <td>265</td>\n",
       "      <td>6</td>\n",
       "      <td>776</td>\n",
       "      <td>...</td>\n",
       "      <td>0</td>\n",
       "      <td>0</td>\n",
       "      <td>0</td>\n",
       "      <td>0</td>\n",
       "      <td>0</td>\n",
       "      <td>1</td>\n",
       "      <td>1</td>\n",
       "      <td>1</td>\n",
       "      <td>0</td>\n",
       "      <td>0</td>\n",
       "    </tr>\n",
       "    <tr>\n",
       "      <th>10</th>\n",
       "      <td>1189</td>\n",
       "      <td>23.654460</td>\n",
       "      <td>15</td>\n",
       "      <td>46</td>\n",
       "      <td>4.5</td>\n",
       "      <td>5388</td>\n",
       "      <td>5</td>\n",
       "      <td>235</td>\n",
       "      <td>0</td>\n",
       "      <td>565</td>\n",
       "      <td>...</td>\n",
       "      <td>0</td>\n",
       "      <td>0</td>\n",
       "      <td>0</td>\n",
       "      <td>0</td>\n",
       "      <td>0</td>\n",
       "      <td>0</td>\n",
       "      <td>0</td>\n",
       "      <td>0</td>\n",
       "      <td>0</td>\n",
       "      <td>0</td>\n",
       "    </tr>\n",
       "    <tr>\n",
       "      <th>15</th>\n",
       "      <td>1207</td>\n",
       "      <td>25.326354</td>\n",
       "      <td>17</td>\n",
       "      <td>195</td>\n",
       "      <td>6.0</td>\n",
       "      <td>6230</td>\n",
       "      <td>5</td>\n",
       "      <td>135</td>\n",
       "      <td>4</td>\n",
       "      <td>321</td>\n",
       "      <td>...</td>\n",
       "      <td>1</td>\n",
       "      <td>0</td>\n",
       "      <td>0</td>\n",
       "      <td>0</td>\n",
       "      <td>0</td>\n",
       "      <td>1</td>\n",
       "      <td>0</td>\n",
       "      <td>0</td>\n",
       "      <td>0</td>\n",
       "      <td>0</td>\n",
       "    </tr>\n",
       "  </tbody>\n",
       "</table>\n",
       "<p>5 rows × 47 columns</p>\n",
       "</div>"
      ],
      "text/plain": [
       "    days_between_adj_5  log_price_adj_3  interest_adj_13  \\\n",
       "4                 1318        23.485804               19   \n",
       "6                 1173        24.941265               18   \n",
       "9                 1170        24.302001               21   \n",
       "10                1189        23.654460               15   \n",
       "15                1207        25.326354               17   \n",
       "\n",
       "    feature_count_adj_25  bathrooms_adj_4  descript_len_adj_11  \\\n",
       "4                    130              4.0                 5398   \n",
       "6                    168              6.0                 7174   \n",
       "9                    127              4.0                 6583   \n",
       "10                    46              4.5                 5388   \n",
       "15                   195              6.0                 6230   \n",
       "\n",
       "    bedrooms_adj_3  mgmt_list_count  feature_count  descript_len   ...    Gym  \\\n",
       "4                4              294              7           530   ...      0   \n",
       "6                7               64              6           804   ...      0   \n",
       "9                5              265              6           776   ...      0   \n",
       "10               5              235              0           565   ...      0   \n",
       "15               5              135              4           321   ...      1   \n",
       "\n",
       "    Parking  Storage  Sunlight  Pool  Laundry_Room  Wash_Dry  Dishwasher  \\\n",
       "4         0        0         0     0             1         0           1   \n",
       "6         0        0         0     0             1         0           1   \n",
       "9         0        0         0     0             1         1           1   \n",
       "10        0        0         0     0             0         0           0   \n",
       "15        0        0         0     0             1         0           0   \n",
       "\n",
       "    Prewar  AirCon  \n",
       "4        1       0  \n",
       "6        0       0  \n",
       "9        0       0  \n",
       "10       0       0  \n",
       "15       0       0  \n",
       "\n",
       "[5 rows x 47 columns]"
      ]
     },
     "execution_count": 190,
     "metadata": {},
     "output_type": "execute_result"
    }
   ],
   "source": [
    "X = train_df.iloc[:,3:50]\n",
    "train_y = train_df[\"interest_code\"]\n",
    "from sklearn.preprocessing import LabelBinarizer\n",
    "X.head()\n",
    "#encoder = LabelBinarizer()\n",
    "#train_y = encoder.fit_transform(y)\n",
    "#train_y = transformed_y.transform(y)\n",
    "#target_num_map = {'high':0, 'medium':1, 'low':2}\n",
    "#train_y = np.array(train_df['interest_level'].apply(lambda x: target_num_map[x]))\n",
    "#X.head()\n",
    "#y.head()\n",
    "#train_y"
   ]
  },
  {
   "cell_type": "code",
   "execution_count": 130,
   "metadata": {
    "collapsed": false
   },
   "outputs": [
    {
     "data": {
      "text/plain": [
       "Index([u'observation', u'listing_id', u'log_price_adj', u'interest_adj',\n",
       "       u'bedrooms_z', u'bathrooms_z', u'latitude_z', u'longitude_z',\n",
       "       u'log_price_z', u'log_price', u'one', u'two', u'three', u'four',\n",
       "       u'five', u'six', u'seven', u'cluster', u'interest_code'],\n",
       "      dtype='object')"
      ]
     },
     "execution_count": 130,
     "metadata": {},
     "output_type": "execute_result"
    }
   ],
   "source": [
    "#X = train_df['log_price_z',]\n",
    "#y = train_df['interest_adj']\n",
    "#train_df.columns"
   ]
  },
  {
   "cell_type": "code",
   "execution_count": 13,
   "metadata": {
    "collapsed": false
   },
   "outputs": [],
   "source": [
    "X_train, X_val, y_train, y_val = train_test_split(X, y, test_size=0.1)"
   ]
  },
  {
   "cell_type": "code",
   "execution_count": 23,
   "metadata": {
    "collapsed": false
   },
   "outputs": [
    {
     "data": {
      "text/plain": [
       "34539        low\n",
       "124002    medium\n",
       "106651       low\n",
       "48666        low\n",
       "43446       high\n",
       "Name: interest_level, dtype: object"
      ]
     },
     "execution_count": 23,
     "metadata": {},
     "output_type": "execute_result"
    }
   ],
   "source": [
    "y_val.head()"
   ]
  },
  {
   "cell_type": "code",
   "execution_count": 45,
   "metadata": {
    "collapsed": false
   },
   "outputs": [
    {
     "data": {
      "text/plain": [
       "0.89951464411527948"
      ]
     },
     "execution_count": 45,
     "metadata": {},
     "output_type": "execute_result"
    }
   ],
   "source": [
    "clf = RandomForestClassifier(n_estimators=2000)\n",
    "clf.fit(X_train, y_train)\n",
    "y_val_pred = clf.predict_proba(X_val)\n",
    "\n",
    "log_loss(y_val, y_val_pred)"
   ]
  },
  {
   "cell_type": "code",
   "execution_count": 218,
   "metadata": {
    "collapsed": false
   },
   "outputs": [
    {
     "data": {
      "text/plain": [
       "2"
      ]
     },
     "execution_count": 218,
     "metadata": {},
     "output_type": "execute_result"
    }
   ],
   "source": [
    "target_num_map = {1:0, 2:1, 3:2}\n",
    "train_y = np.array(train_df['interest_code'].apply(lambda x: target_num_map[x]))\n",
    "train_y.max()"
   ]
  },
  {
   "cell_type": "code",
   "execution_count": 191,
   "metadata": {
    "collapsed": false
   },
   "outputs": [],
   "source": [
    "\n",
    "#learning_rate = [0.0001, 0.001, 0.01, 0.1, 0.2, 0.3]\n",
    "#n_estimators = [100, 200]\n",
    "#learning_rate =0.1\n",
    "#max_depth=5\n",
    "#min_child_weight=1, \n",
    "#gamma=0, \n",
    "#subsample=0.8, \n",
    "#colsample_bytree=0.8,\n",
    "#objective= 'binary:logistic', \n",
    "#nthread=4, \n",
    "#scale_pos_weight=1, \n",
    "#seed=27)\n",
    "param_grid = {'learning_rate': [0.0001, 0.001, 0.01, 0.1, 0.2, 0.3],\n",
    "              #'n_estimators' : [100, 200]\n",
    "             }\n",
    "\n",
    "param_fixed = { 'objective' : 'multi:softprob'\n",
    "              }\n"
   ]
  },
  {
   "cell_type": "code",
   "execution_count": 192,
   "metadata": {
    "collapsed": false
   },
   "outputs": [
    {
     "name": "stdout",
     "output_type": "stream",
     "text": [
      "Best: -0.608347 using {'learning_rate': 0.3}\n",
      "-1.093041 (0.000036) with: {'learning_rate': 0.0001}\n",
      "-1.046866 (0.000313) with: {'learning_rate': 0.001}\n",
      "-0.804366 (0.001897) with: {'learning_rate': 0.01}\n",
      "-0.633511 (0.005263) with: {'learning_rate': 0.1}\n",
      "-0.615783 (0.005357) with: {'learning_rate': 0.2}\n",
      "-0.608347 (0.005186) with: {'learning_rate': 0.3}\n"
     ]
    },
    {
     "data": {
      "text/plain": [
       "True"
      ]
     },
     "execution_count": 192,
     "metadata": {},
     "output_type": "execute_result"
    }
   ],
   "source": [
    "model = XGBClassifier(objective='multi:softprob',seed=27)\n",
    "kfold = StratifiedKFold(n_splits=10, shuffle=True, random_state=7)\n",
    "grid_search = GridSearchCV(model, param_grid, n_jobs=-1, scoring=\"neg_log_loss\", cv=kfold)\n",
    "grid_result = grid_search.fit(X, train_y)\n",
    "\n",
    "print(\"Best: %f using %s\" % (grid_result.best_score_, grid_result.best_params_))\n",
    "means = grid_result.cv_results_['mean_test_score']\n",
    "stds = grid_result.cv_results_['std_test_score']\n",
    "params = grid_result.cv_results_['params']\n",
    "for mean, stdev, param in zip(means, stds, params):\n",
    "    print(\"%f (%f) with: %r\" % (mean, stdev, param))\n",
    "    \n",
    "grid_result.return_train_score\n",
    "# plot\n",
    "#plt.errorbar(learning_rate, means, yerr=stds)\n",
    "#plt.title(\"XGBoost learning_rate vs Log Loss\")\n",
    "#plt.xlabel('learning_rate')\n",
    "#plt.ylabel('Log Loss')"
   ]
  },
  {
   "cell_type": "code",
   "execution_count": 85,
   "metadata": {
    "collapsed": false
   },
   "outputs": [],
   "source": [
    "#grid_result.cv_results_"
   ]
  },
  {
   "cell_type": "code",
   "execution_count": 108,
   "metadata": {
    "collapsed": false
   },
   "outputs": [],
   "source": [
    "preds = grid_result.predict_proba(X)\n",
    "\n",
    "preds = pd.DataFrame(preds)\n",
    "cols = ['high', 'medium', 'low']\n",
    "\n",
    "preds.columns = cols\n",
    "#preds['listing_id'] = listing_id\n",
    "\n",
    "preds.to_csv('E:/rentalProject/my_preds.csv', index=None)"
   ]
  },
  {
   "cell_type": "code",
   "execution_count": 193,
   "metadata": {
    "collapsed": false
   },
   "outputs": [
    {
     "data": {
      "image/png": "[encoded data removed]",
      "text/plain": [
       "<matplotlib.figure.Figure at 0x105b0518>"
      ]
     },
     "metadata": {},
     "output_type": "display_data"
    }
   ],
   "source": [
    "estimator = XGBClassifier(objective='multi:softprob',learning_rate= 0.3,seed=27 )\n",
    "cv = StratifiedKFold(n_splits=10, shuffle=True, random_state=7)\n",
    "train_sizes, train_scores, test_scores = learning_curve(\n",
    "    estimator, X, train_y, cv=cv, scoring=\"neg_log_loss\", n_jobs=-1, train_sizes=np.linspace(.1,1., 10))\n",
    "train_scores_mean = np.mean(train_scores, axis=1)\n",
    "train_scores_std = np.std(train_scores, axis=1)\n",
    "test_scores_mean = np.mean(test_scores, axis=1)\n",
    "test_scores_std = np.std(test_scores, axis=1)\n",
    "plt.figure()\n",
    "plt.title(\"Learning Curve\")\n",
    "plt.xlabel(\"Training examples\")\n",
    "plt.ylabel(\"Score\")\n",
    "plt.gca().invert_yaxis()\n",
    "plt.grid()\n",
    "\n",
    "plt.fill_between(train_sizes, train_scores_mean - train_scores_std,\n",
    "                 train_scores_mean + train_scores_std, alpha=0.1,\n",
    "                 color=\"r\")\n",
    "plt.fill_between(train_sizes, test_scores_mean - test_scores_std,\n",
    "                 test_scores_mean + test_scores_std, alpha=0.1, color=\"g\")\n",
    "plt.plot(train_sizes, train_scores_mean, 'o-', color=\"r\",\n",
    "         label=\"Training score\")\n",
    "plt.plot(train_sizes, test_scores_mean, 'o-', color=\"g\",\n",
    "         label=\"Cross-validation score\")\n",
    "\n",
    "plt.legend(loc=\"best\")\n",
    "plt.show()"
   ]
  },
  {
   "cell_type": "code",
   "execution_count": 215,
   "metadata": {
    "collapsed": false
   },
   "outputs": [
    {
     "data": {
      "text/plain": [
       "array([2, 1, 2, ..., 2, 2, 3])"
      ]
     },
     "execution_count": 215,
     "metadata": {},
     "output_type": "execute_result"
    }
   ],
   "source": [
    "train_y.max()\n",
    "train_y1 = np.array(train_y,dtype=int)\n",
    "train_y1"
   ]
  },
  {
   "cell_type": "code",
   "execution_count": 219,
   "metadata": {
    "collapsed": false
   },
   "outputs": [
    {
     "name": "stdout",
     "output_type": "stream",
     "text": [
      "running cross validation\n"
     ]
    },
    {
     "data": {
      "text/html": [
       "<div>\n",
       "<table border=\"1\" class=\"dataframe\">\n",
       "  <thead>\n",
       "    <tr style=\"text-align: right;\">\n",
       "      <th></th>\n",
       "      <th>test-mlogloss-mean</th>\n",
       "      <th>test-mlogloss-std</th>\n",
       "      <th>train-mlogloss-mean</th>\n",
       "      <th>train-mlogloss-std</th>\n",
       "    </tr>\n",
       "  </thead>\n",
       "  <tbody>\n",
       "    <tr>\n",
       "      <th>0</th>\n",
       "      <td>0.935754</td>\n",
       "      <td>0.000605</td>\n",
       "      <td>0.931897</td>\n",
       "      <td>0.001279</td>\n",
       "    </tr>\n",
       "    <tr>\n",
       "      <th>1</th>\n",
       "      <td>0.840141</td>\n",
       "      <td>0.000920</td>\n",
       "      <td>0.832932</td>\n",
       "      <td>0.001539</td>\n",
       "    </tr>\n",
       "    <tr>\n",
       "      <th>2</th>\n",
       "      <td>0.779100</td>\n",
       "      <td>0.001722</td>\n",
       "      <td>0.768498</td>\n",
       "      <td>0.001651</td>\n",
       "    </tr>\n",
       "    <tr>\n",
       "      <th>3</th>\n",
       "      <td>0.738272</td>\n",
       "      <td>0.002255</td>\n",
       "      <td>0.724827</td>\n",
       "      <td>0.001468</td>\n",
       "    </tr>\n",
       "    <tr>\n",
       "      <th>4</th>\n",
       "      <td>0.710676</td>\n",
       "      <td>0.002207</td>\n",
       "      <td>0.694168</td>\n",
       "      <td>0.001731</td>\n",
       "    </tr>\n",
       "    <tr>\n",
       "      <th>5</th>\n",
       "      <td>0.690897</td>\n",
       "      <td>0.002111</td>\n",
       "      <td>0.671597</td>\n",
       "      <td>0.002334</td>\n",
       "    </tr>\n",
       "    <tr>\n",
       "      <th>6</th>\n",
       "      <td>0.675992</td>\n",
       "      <td>0.002938</td>\n",
       "      <td>0.653761</td>\n",
       "      <td>0.001911</td>\n",
       "    </tr>\n",
       "    <tr>\n",
       "      <th>7</th>\n",
       "      <td>0.664445</td>\n",
       "      <td>0.003110</td>\n",
       "      <td>0.639386</td>\n",
       "      <td>0.001810</td>\n",
       "    </tr>\n",
       "    <tr>\n",
       "      <th>8</th>\n",
       "      <td>0.655648</td>\n",
       "      <td>0.002902</td>\n",
       "      <td>0.627915</td>\n",
       "      <td>0.002263</td>\n",
       "    </tr>\n",
       "    <tr>\n",
       "      <th>9</th>\n",
       "      <td>0.648595</td>\n",
       "      <td>0.002426</td>\n",
       "      <td>0.618039</td>\n",
       "      <td>0.002177</td>\n",
       "    </tr>\n",
       "    <tr>\n",
       "      <th>10</th>\n",
       "      <td>0.643768</td>\n",
       "      <td>0.002679</td>\n",
       "      <td>0.610646</td>\n",
       "      <td>0.002212</td>\n",
       "    </tr>\n",
       "    <tr>\n",
       "      <th>11</th>\n",
       "      <td>0.639454</td>\n",
       "      <td>0.002801</td>\n",
       "      <td>0.603865</td>\n",
       "      <td>0.002302</td>\n",
       "    </tr>\n",
       "    <tr>\n",
       "      <th>12</th>\n",
       "      <td>0.635367</td>\n",
       "      <td>0.002816</td>\n",
       "      <td>0.597248</td>\n",
       "      <td>0.002461</td>\n",
       "    </tr>\n",
       "    <tr>\n",
       "      <th>13</th>\n",
       "      <td>0.632431</td>\n",
       "      <td>0.003244</td>\n",
       "      <td>0.591756</td>\n",
       "      <td>0.002220</td>\n",
       "    </tr>\n",
       "    <tr>\n",
       "      <th>14</th>\n",
       "      <td>0.629286</td>\n",
       "      <td>0.003602</td>\n",
       "      <td>0.585392</td>\n",
       "      <td>0.001678</td>\n",
       "    </tr>\n",
       "    <tr>\n",
       "      <th>15</th>\n",
       "      <td>0.626724</td>\n",
       "      <td>0.003638</td>\n",
       "      <td>0.580377</td>\n",
       "      <td>0.001733</td>\n",
       "    </tr>\n",
       "    <tr>\n",
       "      <th>16</th>\n",
       "      <td>0.624343</td>\n",
       "      <td>0.003618</td>\n",
       "      <td>0.574869</td>\n",
       "      <td>0.002128</td>\n",
       "    </tr>\n",
       "    <tr>\n",
       "      <th>17</th>\n",
       "      <td>0.622494</td>\n",
       "      <td>0.003690</td>\n",
       "      <td>0.570248</td>\n",
       "      <td>0.002116</td>\n",
       "    </tr>\n",
       "    <tr>\n",
       "      <th>18</th>\n",
       "      <td>0.620671</td>\n",
       "      <td>0.003507</td>\n",
       "      <td>0.565658</td>\n",
       "      <td>0.001643</td>\n",
       "    </tr>\n",
       "    <tr>\n",
       "      <th>19</th>\n",
       "      <td>0.619040</td>\n",
       "      <td>0.003346</td>\n",
       "      <td>0.561932</td>\n",
       "      <td>0.002138</td>\n",
       "    </tr>\n",
       "    <tr>\n",
       "      <th>20</th>\n",
       "      <td>0.616968</td>\n",
       "      <td>0.003482</td>\n",
       "      <td>0.557775</td>\n",
       "      <td>0.001933</td>\n",
       "    </tr>\n",
       "    <tr>\n",
       "      <th>21</th>\n",
       "      <td>0.615801</td>\n",
       "      <td>0.003532</td>\n",
       "      <td>0.553890</td>\n",
       "      <td>0.002565</td>\n",
       "    </tr>\n",
       "    <tr>\n",
       "      <th>22</th>\n",
       "      <td>0.614684</td>\n",
       "      <td>0.003698</td>\n",
       "      <td>0.550645</td>\n",
       "      <td>0.002844</td>\n",
       "    </tr>\n",
       "    <tr>\n",
       "      <th>23</th>\n",
       "      <td>0.612973</td>\n",
       "      <td>0.003972</td>\n",
       "      <td>0.546678</td>\n",
       "      <td>0.002805</td>\n",
       "    </tr>\n",
       "    <tr>\n",
       "      <th>24</th>\n",
       "      <td>0.612005</td>\n",
       "      <td>0.004196</td>\n",
       "      <td>0.543341</td>\n",
       "      <td>0.002439</td>\n",
       "    </tr>\n",
       "    <tr>\n",
       "      <th>25</th>\n",
       "      <td>0.611014</td>\n",
       "      <td>0.004461</td>\n",
       "      <td>0.540079</td>\n",
       "      <td>0.002449</td>\n",
       "    </tr>\n",
       "    <tr>\n",
       "      <th>26</th>\n",
       "      <td>0.610281</td>\n",
       "      <td>0.004440</td>\n",
       "      <td>0.536407</td>\n",
       "      <td>0.003268</td>\n",
       "    </tr>\n",
       "    <tr>\n",
       "      <th>27</th>\n",
       "      <td>0.609381</td>\n",
       "      <td>0.004614</td>\n",
       "      <td>0.533593</td>\n",
       "      <td>0.002903</td>\n",
       "    </tr>\n",
       "    <tr>\n",
       "      <th>28</th>\n",
       "      <td>0.608639</td>\n",
       "      <td>0.004448</td>\n",
       "      <td>0.530219</td>\n",
       "      <td>0.002767</td>\n",
       "    </tr>\n",
       "    <tr>\n",
       "      <th>29</th>\n",
       "      <td>0.607809</td>\n",
       "      <td>0.004570</td>\n",
       "      <td>0.526835</td>\n",
       "      <td>0.003041</td>\n",
       "    </tr>\n",
       "    <tr>\n",
       "      <th>...</th>\n",
       "      <td>...</td>\n",
       "      <td>...</td>\n",
       "      <td>...</td>\n",
       "      <td>...</td>\n",
       "    </tr>\n",
       "    <tr>\n",
       "      <th>120</th>\n",
       "      <td>0.596638</td>\n",
       "      <td>0.006774</td>\n",
       "      <td>0.359093</td>\n",
       "      <td>0.004968</td>\n",
       "    </tr>\n",
       "    <tr>\n",
       "      <th>121</th>\n",
       "      <td>0.596733</td>\n",
       "      <td>0.006748</td>\n",
       "      <td>0.358064</td>\n",
       "      <td>0.004839</td>\n",
       "    </tr>\n",
       "    <tr>\n",
       "      <th>122</th>\n",
       "      <td>0.596722</td>\n",
       "      <td>0.006625</td>\n",
       "      <td>0.356951</td>\n",
       "      <td>0.004473</td>\n",
       "    </tr>\n",
       "    <tr>\n",
       "      <th>123</th>\n",
       "      <td>0.596804</td>\n",
       "      <td>0.006608</td>\n",
       "      <td>0.355764</td>\n",
       "      <td>0.005049</td>\n",
       "    </tr>\n",
       "    <tr>\n",
       "      <th>124</th>\n",
       "      <td>0.596873</td>\n",
       "      <td>0.006553</td>\n",
       "      <td>0.354676</td>\n",
       "      <td>0.004844</td>\n",
       "    </tr>\n",
       "    <tr>\n",
       "      <th>125</th>\n",
       "      <td>0.596874</td>\n",
       "      <td>0.006526</td>\n",
       "      <td>0.353776</td>\n",
       "      <td>0.004786</td>\n",
       "    </tr>\n",
       "    <tr>\n",
       "      <th>126</th>\n",
       "      <td>0.596899</td>\n",
       "      <td>0.006462</td>\n",
       "      <td>0.352341</td>\n",
       "      <td>0.004961</td>\n",
       "    </tr>\n",
       "    <tr>\n",
       "      <th>127</th>\n",
       "      <td>0.596878</td>\n",
       "      <td>0.006689</td>\n",
       "      <td>0.350915</td>\n",
       "      <td>0.005013</td>\n",
       "    </tr>\n",
       "    <tr>\n",
       "      <th>128</th>\n",
       "      <td>0.596911</td>\n",
       "      <td>0.006682</td>\n",
       "      <td>0.349604</td>\n",
       "      <td>0.005211</td>\n",
       "    </tr>\n",
       "    <tr>\n",
       "      <th>129</th>\n",
       "      <td>0.596990</td>\n",
       "      <td>0.006723</td>\n",
       "      <td>0.348505</td>\n",
       "      <td>0.005267</td>\n",
       "    </tr>\n",
       "    <tr>\n",
       "      <th>130</th>\n",
       "      <td>0.597054</td>\n",
       "      <td>0.006789</td>\n",
       "      <td>0.347204</td>\n",
       "      <td>0.005404</td>\n",
       "    </tr>\n",
       "    <tr>\n",
       "      <th>131</th>\n",
       "      <td>0.597161</td>\n",
       "      <td>0.006808</td>\n",
       "      <td>0.346173</td>\n",
       "      <td>0.005518</td>\n",
       "    </tr>\n",
       "    <tr>\n",
       "      <th>132</th>\n",
       "      <td>0.597297</td>\n",
       "      <td>0.006681</td>\n",
       "      <td>0.344846</td>\n",
       "      <td>0.005676</td>\n",
       "    </tr>\n",
       "    <tr>\n",
       "      <th>133</th>\n",
       "      <td>0.597211</td>\n",
       "      <td>0.006716</td>\n",
       "      <td>0.343461</td>\n",
       "      <td>0.005550</td>\n",
       "    </tr>\n",
       "    <tr>\n",
       "      <th>134</th>\n",
       "      <td>0.597334</td>\n",
       "      <td>0.006680</td>\n",
       "      <td>0.342242</td>\n",
       "      <td>0.005575</td>\n",
       "    </tr>\n",
       "    <tr>\n",
       "      <th>135</th>\n",
       "      <td>0.597525</td>\n",
       "      <td>0.006575</td>\n",
       "      <td>0.341052</td>\n",
       "      <td>0.005676</td>\n",
       "    </tr>\n",
       "    <tr>\n",
       "      <th>136</th>\n",
       "      <td>0.597663</td>\n",
       "      <td>0.006607</td>\n",
       "      <td>0.340071</td>\n",
       "      <td>0.005586</td>\n",
       "    </tr>\n",
       "    <tr>\n",
       "      <th>137</th>\n",
       "      <td>0.597706</td>\n",
       "      <td>0.006724</td>\n",
       "      <td>0.338732</td>\n",
       "      <td>0.005551</td>\n",
       "    </tr>\n",
       "    <tr>\n",
       "      <th>138</th>\n",
       "      <td>0.597676</td>\n",
       "      <td>0.006858</td>\n",
       "      <td>0.337214</td>\n",
       "      <td>0.005475</td>\n",
       "    </tr>\n",
       "    <tr>\n",
       "      <th>139</th>\n",
       "      <td>0.597691</td>\n",
       "      <td>0.006863</td>\n",
       "      <td>0.335969</td>\n",
       "      <td>0.005524</td>\n",
       "    </tr>\n",
       "    <tr>\n",
       "      <th>140</th>\n",
       "      <td>0.597748</td>\n",
       "      <td>0.006838</td>\n",
       "      <td>0.334956</td>\n",
       "      <td>0.005594</td>\n",
       "    </tr>\n",
       "    <tr>\n",
       "      <th>141</th>\n",
       "      <td>0.597715</td>\n",
       "      <td>0.006671</td>\n",
       "      <td>0.333589</td>\n",
       "      <td>0.005634</td>\n",
       "    </tr>\n",
       "    <tr>\n",
       "      <th>142</th>\n",
       "      <td>0.597808</td>\n",
       "      <td>0.006791</td>\n",
       "      <td>0.332499</td>\n",
       "      <td>0.005431</td>\n",
       "    </tr>\n",
       "    <tr>\n",
       "      <th>143</th>\n",
       "      <td>0.598037</td>\n",
       "      <td>0.006728</td>\n",
       "      <td>0.331366</td>\n",
       "      <td>0.005497</td>\n",
       "    </tr>\n",
       "    <tr>\n",
       "      <th>144</th>\n",
       "      <td>0.598039</td>\n",
       "      <td>0.006803</td>\n",
       "      <td>0.329696</td>\n",
       "      <td>0.005510</td>\n",
       "    </tr>\n",
       "    <tr>\n",
       "      <th>145</th>\n",
       "      <td>0.598131</td>\n",
       "      <td>0.006797</td>\n",
       "      <td>0.328320</td>\n",
       "      <td>0.005374</td>\n",
       "    </tr>\n",
       "    <tr>\n",
       "      <th>146</th>\n",
       "      <td>0.598127</td>\n",
       "      <td>0.006882</td>\n",
       "      <td>0.327060</td>\n",
       "      <td>0.005138</td>\n",
       "    </tr>\n",
       "    <tr>\n",
       "      <th>147</th>\n",
       "      <td>0.598196</td>\n",
       "      <td>0.006996</td>\n",
       "      <td>0.326167</td>\n",
       "      <td>0.005182</td>\n",
       "    </tr>\n",
       "    <tr>\n",
       "      <th>148</th>\n",
       "      <td>0.598226</td>\n",
       "      <td>0.007054</td>\n",
       "      <td>0.325068</td>\n",
       "      <td>0.005757</td>\n",
       "    </tr>\n",
       "    <tr>\n",
       "      <th>149</th>\n",
       "      <td>0.598390</td>\n",
       "      <td>0.007034</td>\n",
       "      <td>0.323892</td>\n",
       "      <td>0.005705</td>\n",
       "    </tr>\n",
       "  </tbody>\n",
       "</table>\n",
       "<p>150 rows × 4 columns</p>\n",
       "</div>"
      ],
      "text/plain": [
       "     test-mlogloss-mean  test-mlogloss-std  train-mlogloss-mean  \\\n",
       "0              0.935754           0.000605             0.931897   \n",
       "1              0.840141           0.000920             0.832932   \n",
       "2              0.779100           0.001722             0.768498   \n",
       "3              0.738272           0.002255             0.724827   \n",
       "4              0.710676           0.002207             0.694168   \n",
       "5              0.690897           0.002111             0.671597   \n",
       "6              0.675992           0.002938             0.653761   \n",
       "7              0.664445           0.003110             0.639386   \n",
       "8              0.655648           0.002902             0.627915   \n",
       "9              0.648595           0.002426             0.618039   \n",
       "10             0.643768           0.002679             0.610646   \n",
       "11             0.639454           0.002801             0.603865   \n",
       "12             0.635367           0.002816             0.597248   \n",
       "13             0.632431           0.003244             0.591756   \n",
       "14             0.629286           0.003602             0.585392   \n",
       "15             0.626724           0.003638             0.580377   \n",
       "16             0.624343           0.003618             0.574869   \n",
       "17             0.622494           0.003690             0.570248   \n",
       "18             0.620671           0.003507             0.565658   \n",
       "19             0.619040           0.003346             0.561932   \n",
       "20             0.616968           0.003482             0.557775   \n",
       "21             0.615801           0.003532             0.553890   \n",
       "22             0.614684           0.003698             0.550645   \n",
       "23             0.612973           0.003972             0.546678   \n",
       "24             0.612005           0.004196             0.543341   \n",
       "25             0.611014           0.004461             0.540079   \n",
       "26             0.610281           0.004440             0.536407   \n",
       "27             0.609381           0.004614             0.533593   \n",
       "28             0.608639           0.004448             0.530219   \n",
       "29             0.607809           0.004570             0.526835   \n",
       "..                  ...                ...                  ...   \n",
       "120            0.596638           0.006774             0.359093   \n",
       "121            0.596733           0.006748             0.358064   \n",
       "122            0.596722           0.006625             0.356951   \n",
       "123            0.596804           0.006608             0.355764   \n",
       "124            0.596873           0.006553             0.354676   \n",
       "125            0.596874           0.006526             0.353776   \n",
       "126            0.596899           0.006462             0.352341   \n",
       "127            0.596878           0.006689             0.350915   \n",
       "128            0.596911           0.006682             0.349604   \n",
       "129            0.596990           0.006723             0.348505   \n",
       "130            0.597054           0.006789             0.347204   \n",
       "131            0.597161           0.006808             0.346173   \n",
       "132            0.597297           0.006681             0.344846   \n",
       "133            0.597211           0.006716             0.343461   \n",
       "134            0.597334           0.006680             0.342242   \n",
       "135            0.597525           0.006575             0.341052   \n",
       "136            0.597663           0.006607             0.340071   \n",
       "137            0.597706           0.006724             0.338732   \n",
       "138            0.597676           0.006858             0.337214   \n",
       "139            0.597691           0.006863             0.335969   \n",
       "140            0.597748           0.006838             0.334956   \n",
       "141            0.597715           0.006671             0.333589   \n",
       "142            0.597808           0.006791             0.332499   \n",
       "143            0.598037           0.006728             0.331366   \n",
       "144            0.598039           0.006803             0.329696   \n",
       "145            0.598131           0.006797             0.328320   \n",
       "146            0.598127           0.006882             0.327060   \n",
       "147            0.598196           0.006996             0.326167   \n",
       "148            0.598226           0.007054             0.325068   \n",
       "149            0.598390           0.007034             0.323892   \n",
       "\n",
       "     train-mlogloss-std  \n",
       "0              0.001279  \n",
       "1              0.001539  \n",
       "2              0.001651  \n",
       "3              0.001468  \n",
       "4              0.001731  \n",
       "5              0.002334  \n",
       "6              0.001911  \n",
       "7              0.001810  \n",
       "8              0.002263  \n",
       "9              0.002177  \n",
       "10             0.002212  \n",
       "11             0.002302  \n",
       "12             0.002461  \n",
       "13             0.002220  \n",
       "14             0.001678  \n",
       "15             0.001733  \n",
       "16             0.002128  \n",
       "17             0.002116  \n",
       "18             0.001643  \n",
       "19             0.002138  \n",
       "20             0.001933  \n",
       "21             0.002565  \n",
       "22             0.002844  \n",
       "23             0.002805  \n",
       "24             0.002439  \n",
       "25             0.002449  \n",
       "26             0.003268  \n",
       "27             0.002903  \n",
       "28             0.002767  \n",
       "29             0.003041  \n",
       "..                  ...  \n",
       "120            0.004968  \n",
       "121            0.004839  \n",
       "122            0.004473  \n",
       "123            0.005049  \n",
       "124            0.004844  \n",
       "125            0.004786  \n",
       "126            0.004961  \n",
       "127            0.005013  \n",
       "128            0.005211  \n",
       "129            0.005267  \n",
       "130            0.005404  \n",
       "131            0.005518  \n",
       "132            0.005676  \n",
       "133            0.005550  \n",
       "134            0.005575  \n",
       "135            0.005676  \n",
       "136            0.005586  \n",
       "137            0.005551  \n",
       "138            0.005475  \n",
       "139            0.005524  \n",
       "140            0.005594  \n",
       "141            0.005634  \n",
       "142            0.005431  \n",
       "143            0.005497  \n",
       "144            0.005510  \n",
       "145            0.005374  \n",
       "146            0.005138  \n",
       "147            0.005182  \n",
       "148            0.005757  \n",
       "149            0.005705  \n",
       "\n",
       "[150 rows x 4 columns]"
      ]
     },
     "execution_count": 219,
     "metadata": {},
     "output_type": "execute_result"
    }
   ],
   "source": [
    "dtrain = xgb.DMatrix(data=X, label=train_y)\n",
    "#params = {'max_depth':5, 'eta':0.3,  'objective':'multi:softprob', 'eval_metric':'mlogloss','num_class':3}\n",
    "params = { 'objective':'multi:softprob', 'eval_metric':'mlogloss','num_class':3}\n",
    "num_round = 100\n",
    "print ('running cross validation')\n",
    "# do cross validation, this will print result out as\n",
    "# [iteration]  metric_name:mean_value+std_value\n",
    "# std_value is standard deviation of the metric\n",
    "kfold = StratifiedKFold(n_splits=10, shuffle=True, random_state=7)\n",
    "xcv =xgb.cv(params,dtrain, num_boost_round=150,seed = 0,folds=kfold)\n",
    "xcv\n",
    "\n",
    "#xgb.train(params,dtrain)\n",
    "#dtrain.feature_names"
   ]
  },
  {
   "cell_type": "code",
   "execution_count": 220,
   "metadata": {
    "collapsed": false
   },
   "outputs": [
    {
     "ename": "ValueError",
     "evalue": "tree must be Booster, XGBModel or dict instance",
     "output_type": "error",
     "traceback": [
      "\u001b[0;31m---------------------------------------------------------------------------\u001b[0m",
      "\u001b[0;31mValueError\u001b[0m                                Traceback (most recent call last)",
      "\u001b[0;32m<ipython-input-220-6bc074eaa861>\u001b[0m in \u001b[0;36m<module>\u001b[0;34m()\u001b[0m\n\u001b[0;32m----> 1\u001b[0;31m \u001b[0mxgb\u001b[0m\u001b[1;33m.\u001b[0m\u001b[0mplot_importance\u001b[0m\u001b[1;33m(\u001b[0m\u001b[0mxcv\u001b[0m\u001b[1;33m)\u001b[0m\u001b[1;33m\u001b[0m\u001b[0m\n\u001b[0m\u001b[1;32m      2\u001b[0m \u001b[0mpyplot\u001b[0m\u001b[1;33m.\u001b[0m\u001b[0mshow\u001b[0m\u001b[1;33m(\u001b[0m\u001b[1;33m)\u001b[0m\u001b[1;33m\u001b[0m\u001b[0m\n",
      "\u001b[0;32mC:\\Users\\VikasDesktop\\Anaconda2\\lib\\site-packages\\xgboost-0.6-py2.7.egg\\xgboost\\plotting.pyc\u001b[0m in \u001b[0;36mplot_importance\u001b[0;34m(booster, ax, height, xlim, ylim, title, xlabel, ylabel, importance_type, max_num_features, grid, **kwargs)\u001b[0m\n\u001b[1;32m     66\u001b[0m         \u001b[0mimportance\u001b[0m \u001b[1;33m=\u001b[0m \u001b[0mbooster\u001b[0m\u001b[1;33m\u001b[0m\u001b[0m\n\u001b[1;32m     67\u001b[0m     \u001b[1;32melse\u001b[0m\u001b[1;33m:\u001b[0m\u001b[1;33m\u001b[0m\u001b[0m\n\u001b[0;32m---> 68\u001b[0;31m         \u001b[1;32mraise\u001b[0m \u001b[0mValueError\u001b[0m\u001b[1;33m(\u001b[0m\u001b[1;34m'tree must be Booster, XGBModel or dict instance'\u001b[0m\u001b[1;33m)\u001b[0m\u001b[1;33m\u001b[0m\u001b[0m\n\u001b[0m\u001b[1;32m     69\u001b[0m \u001b[1;33m\u001b[0m\u001b[0m\n\u001b[1;32m     70\u001b[0m     \u001b[1;32mif\u001b[0m \u001b[0mlen\u001b[0m\u001b[1;33m(\u001b[0m\u001b[0mimportance\u001b[0m\u001b[1;33m)\u001b[0m \u001b[1;33m==\u001b[0m \u001b[1;36m0\u001b[0m\u001b[1;33m:\u001b[0m\u001b[1;33m\u001b[0m\u001b[0m\n",
      "\u001b[0;31mValueError\u001b[0m: tree must be Booster, XGBModel or dict instance"
     ]
    }
   ],
   "source": [
    "xgb.plot_importance(xcv)\n",
    "pyplot.show()"
   ]
  },
  {
   "cell_type": "code",
   "execution_count": 96,
   "metadata": {
    "collapsed": false
   },
   "outputs": [
    {
     "ename": "NameError",
     "evalue": "name 'kfolds' is not defined",
     "output_type": "error",
     "traceback": [
      "\u001b[0;31m---------------------------------------------------------------------------\u001b[0m",
      "\u001b[0;31mNameError\u001b[0m                                 Traceback (most recent call last)",
      "\u001b[0;32m<ipython-input-96-4eae0da05262>\u001b[0m in \u001b[0;36m<module>\u001b[0;34m()\u001b[0m\n\u001b[1;32m      1\u001b[0m \u001b[1;31m#xcv['train-mlogloss-mean']\u001b[0m\u001b[1;33m\u001b[0m\u001b[1;33m\u001b[0m\u001b[0m\n\u001b[0;32m----> 2\u001b[0;31m \u001b[0mkfolds\u001b[0m\u001b[1;33m\u001b[0m\u001b[0m\n\u001b[0m",
      "\u001b[0;31mNameError\u001b[0m: name 'kfolds' is not defined"
     ]
    }
   ],
   "source": [
    "#xcv['train-mlogloss-mean']\n",
    "sm = SMOTE(kind='regular')\n",
    "X_resampled, y_resampled = sm.fit_sample(X, y)"
   ]
  },
  {
   "cell_type": "code",
   "execution_count": 221,
   "metadata": {
    "collapsed": false
   },
   "outputs": [
    {
     "data": {
      "image/png": "[encoded data removed]",
      "text/plain": [
       "<matplotlib.figure.Figure at 0x141dc390>"
      ]
     },
     "metadata": {},
     "output_type": "display_data"
    }
   ],
   "source": [
    "#plt.gca().invert_yaxis()\n",
    "plt.grid()\n",
    "\n",
    "#plt.fill_between(train_sizes, train_scores_mean - train_scores_std,\n",
    " #                train_scores_mean + train_scores_std, alpha=0.1,\n",
    "  #               color=\"r\")\n",
    "#plt.fill_between(train_sizes, test_scores_mean - test_scores_std,\n",
    "                 #test_scores_mean + test_scores_std, alpha=0.1, color=\"g\")\n",
    "plt.plot(xcv.index, xcv['train-mlogloss-mean'], 'o-', color=\"r\",\n",
    "         label=\"Training score\")\n",
    "plt.plot(xcv.index, xcv['test-mlogloss-mean'], 'o-', color=\"g\",\n",
    "         label=\"Cross-validation score\")\n",
    "\n",
    "plt.legend(loc=\"best\")\n",
    "plt.show()"
   ]
  },
  {
   "cell_type": "code",
   "execution_count": null,
   "metadata": {
    "collapsed": true
   },
   "outputs": [],
   "source": []
  },
  {
   "cell_type": "code",
   "execution_count": 43,
   "metadata": {
    "collapsed": false
   },
   "outputs": [
    {
     "data": {
      "text/plain": [
       "100"
      ]
     },
     "execution_count": 43,
     "metadata": {},
     "output_type": "execute_result"
    }
   ],
   "source": [
    "xcv.shape[0]"
   ]
  },
  {
   "cell_type": "code",
   "execution_count": 19,
   "metadata": {
    "collapsed": false
   },
   "outputs": [
    {
     "data": {
      "text/plain": [
       "(4934L, 3L)"
      ]
     },
     "execution_count": 19,
     "metadata": {},
     "output_type": "execute_result"
    }
   ],
   "source": [
    "y_val_pred.shape"
   ]
  },
  {
   "cell_type": "code",
   "execution_count": 65,
   "metadata": {
    "collapsed": false
   },
   "outputs": [
    {
     "data": {
      "text/plain": [
       "0.80789907097742264"
      ]
     },
     "execution_count": 65,
     "metadata": {},
     "output_type": "execute_result"
    }
   ],
   "source": [
    "clf = BaggingClassifier(KNeighborsClassifier(), max_samples=0.5, max_features=0.5)\n",
    "clf.fit(X_train, y_train)\n",
    "y_val_pred = clf.predict_proba(X_val)\n",
    "log_loss(y_val, y_val_pred)"
   ]
  },
  {
   "cell_type": "code",
   "execution_count": 20,
   "metadata": {
    "collapsed": false
   },
   "outputs": [
    {
     "data": {
      "text/plain": [
       "1.0978403368671374"
      ]
     },
     "execution_count": 20,
     "metadata": {},
     "output_type": "execute_result"
    }
   ],
   "source": [
    "clf = AdaBoostClassifier(n_estimators=2000)\n",
    "clf.fit(X_train, y_train)\n",
    "y_val_pred = clf.predict_proba(X_val)\n",
    "log_loss(y_val, y_val_pred)"
   ]
  },
  {
   "cell_type": "code",
   "execution_count": 21,
   "metadata": {
    "collapsed": false
   },
   "outputs": [
    {
     "data": {
      "text/plain": [
       "0.68926639444576865"
      ]
     },
     "execution_count": 21,
     "metadata": {},
     "output_type": "execute_result"
    }
   ],
   "source": [
    "clf = GradientBoostingClassifier(n_estimators=2000, learning_rate=1.0,\n",
    "    max_depth=1, random_state=0).fit(X_train, y_train)\n",
    "y_val_pred = clf.predict_proba(X_val)\n",
    "log_loss(y_val, y_val_pred)"
   ]
  },
  {
   "cell_type": "code",
   "execution_count": null,
   "metadata": {
    "collapsed": true
   },
   "outputs": [],
   "source": [
    "#learning_rate = [0.0001, 0.001, 0.01, 0.1, 0.2, 0.3]\n",
    "#param_grid = dict(learning_rate=learning_rate)\n",
    "#kfold = StratifiedKFold(n_splits=10, shuffle=True, random_state=7)\n",
    "#grid_search = GridSearchCV(model, param_grid, scoring=\"neg_log_loss\", n_jobs=-1, cv=kfold)\n",
    "#grid_result = grid_search.fit(X, label_encoded_y)"
   ]
  },
  {
   "cell_type": "code",
   "execution_count": 96,
   "metadata": {
    "collapsed": true
   },
   "outputs": [],
   "source": [
    "submission = pd.DataFrame({\n",
    "        \"listing_id\": X_val.index,\n",
    "        \"high\": y_val_pred[:,0],\n",
    "        \"medium\":y_val_pred[:,2],\n",
    "        \"low\":y_val_pred[:,1]\n",
    "    })\n",
    "    \n",
    "columnsTitles=[\"listing_id\",\"high\",\"medium\",\"low\"]\n",
    "submission=submission.reindex(columns=columnsTitles)\n",
    "submission.to_csv('submission.csv', index=False)"
   ]
  },
  {
   "cell_type": "code",
   "execution_count": 95,
   "metadata": {
    "collapsed": false
   },
   "outputs": [
    {
     "name": "stdout",
     "output_type": "stream",
     "text": [
      "The scikit-learn version is 0.18.1.\n"
     ]
    }
   ],
   "source": [
    "import sklearn\n",
    "\n",
    "print('The scikit-learn version is {}.'.format(sklearn.__version__))\n"
   ]
  }
 ],
 "metadata": {
  "_change_revision": 29,
  "_is_fork": false,
  "kernelspec": {
   "display_name": "Python 2",
   "language": "python",
   "name": "python2"
  },
  "language_info": {
   "codemirror_mode": {
    "name": "ipython",
    "version": 2
   },
   "file_extension": ".py",
   "mimetype": "text/x-python",
   "name": "python",
   "nbconvert_exporter": "python",
   "pygments_lexer": "ipython2",
   "version": "2.7.13"
  }
 },
 "nbformat": 4,
 "nbformat_minor": 0
}
