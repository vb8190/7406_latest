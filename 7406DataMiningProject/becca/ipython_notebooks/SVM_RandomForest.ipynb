{
 "cells": [
  {
   "cell_type": "markdown",
   "metadata": {},
   "source": [
    "# SVM\n"
   ]
  },
  {
   "cell_type": "code",
   "execution_count": 1,
   "metadata": {
    "collapsed": false
   },
   "outputs": [],
   "source": [
    "from sklearn.preprocessing import StandardScaler \n",
    "from sklearn.grid_search import GridSearchCV\n",
    "import pandas as pd\n",
    "import numpy as np\n",
    "import csv\n",
    "from sklearn import svm\n",
    "from sklearn.ensemble import RandomForestClassifier as RFC\n",
    "from sklearn.svm import SVC\n",
    "from sklearn.multiclass import OneVsRestClassifier\n",
    "from sklearn import  preprocessing, ensemble\n",
    "from sklearn.cross_validation import train_test_split\n",
    "from sklearn.metrics import accuracy_score, log_loss\n",
    "import matplotlib.pyplot as plt"
   ]
  },
  {
   "cell_type": "code",
   "execution_count": 8,
   "metadata": {
    "collapsed": false,
    "scrolled": true
   },
   "outputs": [
    {
     "data": {
      "text/html": [
       "<div>\n",
       "<table border=\"1\" class=\"dataframe\">\n",
       "  <thead>\n",
       "    <tr style=\"text-align: right;\">\n",
       "      <th></th>\n",
       "      <th>days_between_adj_5</th>\n",
       "      <th>log_price_adj_3</th>\n",
       "      <th>interest_adj_13</th>\n",
       "      <th>feature_count_adj_25</th>\n",
       "      <th>bathrooms_adj_4</th>\n",
       "      <th>descript_len_adj_11</th>\n",
       "      <th>bedrooms_adj_3</th>\n",
       "      <th>mgmt_list_count</th>\n",
       "      <th>feature_count</th>\n",
       "      <th>descript_len</th>\n",
       "      <th>photo_count</th>\n",
       "      <th>bedrooms</th>\n",
       "      <th>bathrooms</th>\n",
       "      <th>log_price</th>\n",
       "      <th>log_price_sq</th>\n",
       "      <th>log_price__interest_adj_13</th>\n",
       "      <th>log_days_between</th>\n",
       "    </tr>\n",
       "  </thead>\n",
       "  <tbody>\n",
       "    <tr>\n",
       "      <th>0</th>\n",
       "      <td>1318</td>\n",
       "      <td>23.485804</td>\n",
       "      <td>19</td>\n",
       "      <td>130</td>\n",
       "      <td>4.0</td>\n",
       "      <td>5398</td>\n",
       "      <td>4</td>\n",
       "      <td>294</td>\n",
       "      <td>7</td>\n",
       "      <td>530</td>\n",
       "      <td>12</td>\n",
       "      <td>1</td>\n",
       "      <td>1.0</td>\n",
       "      <td>7.783224</td>\n",
       "      <td>60.578576</td>\n",
       "      <td>147.881256</td>\n",
       "      <td>5.468060</td>\n",
       "    </tr>\n",
       "    <tr>\n",
       "      <th>1</th>\n",
       "      <td>1173</td>\n",
       "      <td>24.941265</td>\n",
       "      <td>18</td>\n",
       "      <td>168</td>\n",
       "      <td>6.0</td>\n",
       "      <td>7174</td>\n",
       "      <td>7</td>\n",
       "      <td>64</td>\n",
       "      <td>6</td>\n",
       "      <td>804</td>\n",
       "      <td>6</td>\n",
       "      <td>2</td>\n",
       "      <td>1.0</td>\n",
       "      <td>8.242756</td>\n",
       "      <td>67.943032</td>\n",
       "      <td>148.369614</td>\n",
       "      <td>5.529429</td>\n",
       "    </tr>\n",
       "    <tr>\n",
       "      <th>2</th>\n",
       "      <td>1170</td>\n",
       "      <td>24.302001</td>\n",
       "      <td>21</td>\n",
       "      <td>127</td>\n",
       "      <td>4.0</td>\n",
       "      <td>6583</td>\n",
       "      <td>5</td>\n",
       "      <td>265</td>\n",
       "      <td>6</td>\n",
       "      <td>776</td>\n",
       "      <td>6</td>\n",
       "      <td>2</td>\n",
       "      <td>1.0</td>\n",
       "      <td>8.159089</td>\n",
       "      <td>66.570728</td>\n",
       "      <td>171.340862</td>\n",
       "      <td>5.476464</td>\n",
       "    </tr>\n",
       "    <tr>\n",
       "      <th>3</th>\n",
       "      <td>1189</td>\n",
       "      <td>23.654460</td>\n",
       "      <td>15</td>\n",
       "      <td>46</td>\n",
       "      <td>4.5</td>\n",
       "      <td>5388</td>\n",
       "      <td>5</td>\n",
       "      <td>235</td>\n",
       "      <td>0</td>\n",
       "      <td>565</td>\n",
       "      <td>5</td>\n",
       "      <td>3</td>\n",
       "      <td>1.5</td>\n",
       "      <td>8.006368</td>\n",
       "      <td>64.101922</td>\n",
       "      <td>120.095513</td>\n",
       "      <td>5.433722</td>\n",
       "    </tr>\n",
       "    <tr>\n",
       "      <th>4</th>\n",
       "      <td>1207</td>\n",
       "      <td>25.326354</td>\n",
       "      <td>17</td>\n",
       "      <td>195</td>\n",
       "      <td>6.0</td>\n",
       "      <td>6230</td>\n",
       "      <td>5</td>\n",
       "      <td>135</td>\n",
       "      <td>4</td>\n",
       "      <td>321</td>\n",
       "      <td>4</td>\n",
       "      <td>0</td>\n",
       "      <td>1.0</td>\n",
       "      <td>7.935587</td>\n",
       "      <td>62.973547</td>\n",
       "      <td>134.904986</td>\n",
       "      <td>5.416100</td>\n",
       "    </tr>\n",
       "  </tbody>\n",
       "</table>\n",
       "</div>"
      ],
      "text/plain": [
       "   days_between_adj_5  log_price_adj_3  interest_adj_13  feature_count_adj_25  \\\n",
       "0                1318        23.485804               19                   130   \n",
       "1                1173        24.941265               18                   168   \n",
       "2                1170        24.302001               21                   127   \n",
       "3                1189        23.654460               15                    46   \n",
       "4                1207        25.326354               17                   195   \n",
       "\n",
       "   bathrooms_adj_4  descript_len_adj_11  bedrooms_adj_3  mgmt_list_count  \\\n",
       "0              4.0                 5398               4              294   \n",
       "1              6.0                 7174               7               64   \n",
       "2              4.0                 6583               5              265   \n",
       "3              4.5                 5388               5              235   \n",
       "4              6.0                 6230               5              135   \n",
       "\n",
       "   feature_count  descript_len  photo_count  bedrooms  bathrooms  log_price  \\\n",
       "0              7           530           12         1        1.0   7.783224   \n",
       "1              6           804            6         2        1.0   8.242756   \n",
       "2              6           776            6         2        1.0   8.159089   \n",
       "3              0           565            5         3        1.5   8.006368   \n",
       "4              4           321            4         0        1.0   7.935587   \n",
       "\n",
       "   log_price_sq  log_price__interest_adj_13  log_days_between  \n",
       "0     60.578576                  147.881256          5.468060  \n",
       "1     67.943032                  148.369614          5.529429  \n",
       "2     66.570728                  171.340862          5.476464  \n",
       "3     64.101922                  120.095513          5.433722  \n",
       "4     62.973547                  134.904986          5.416100  "
      ]
     },
     "execution_count": 8,
     "metadata": {},
     "output_type": "execute_result"
    }
   ],
   "source": [
    "df = pd.read_csv('Final_Project_Variables-train.csv',sep = \",\", header = 0)\n",
    "\n",
    "df = df.iloc[:,:20]\n",
    "#df = df.columns[[13,14,557,587,15,581,582,558,586,585]]\n",
    "#interest code is the response, take it out and call it response\n",
    "response = df['interest_code']\n",
    "\n",
    "df = df.drop(df.columns[[0,1,2]], axis=1)\n",
    "\n",
    "#df = df.iloc[:,:50]\n",
    "\n",
    "\n",
    "df.head()"
   ]
  },
  {
   "cell_type": "code",
   "execution_count": 9,
   "metadata": {
    "collapsed": false
   },
   "outputs": [],
   "source": [
    "\n",
    "\n",
    "#Define numpy arrays\n",
    "y = np.array(response)\n",
    "X = np.array(df)\n",
    "\n",
    "\n",
    "\n"
   ]
  },
  {
   "cell_type": "code",
   "execution_count": 10,
   "metadata": {
    "collapsed": false
   },
   "outputs": [],
   "source": [
    "#split into testing and training\n",
    "X_train, X_val, y_train, y_val = train_test_split(X, y, test_size=0.1)\n"
   ]
  },
  {
   "cell_type": "code",
   "execution_count": 11,
   "metadata": {
    "collapsed": false
   },
   "outputs": [],
   "source": [
    "#scale the data\n",
    "scaler = StandardScaler()  \n",
    "scaler.fit(X_train)  \n",
    "X_trian = scaler.transform(X_train)  \n",
    "X_val = scaler.transform(X_val)"
   ]
  },
  {
   "cell_type": "code",
   "execution_count": null,
   "metadata": {
    "collapsed": false
   },
   "outputs": [
    {
     "name": "stdout",
     "output_type": "stream",
     "text": [
      "SVC(C=1.0, cache_size=200, class_weight=None, coef0=0.0,\n",
      "  decision_function_shape=None, degree=3, gamma='auto', kernel='rbf',\n",
      "  max_iter=-1, probability=False, random_state=None, shrinking=True,\n",
      "  tol=0.001, verbose=False)\n"
     ]
    }
   ],
   "source": [
    "#decision_function_shape='ovo', probability=True\n",
    "clf = svm.SVC( )\n",
    "print(clf)\n",
    "clf.fit(X_train, y_train)  \n",
    "y_val_pred = clf.predict_proba(X_val)\n",
    "log_loss(y_val, y_val_pred)"
   ]
  },
  {
   "cell_type": "code",
   "execution_count": null,
   "metadata": {
    "collapsed": false
   },
   "outputs": [],
   "source": [
    "clf.support_vectors_\n",
    "#clf.support_ \n",
    "#clf.n_support_ \n",
    "#clf.predict([[2., 2.]])\n"
   ]
  },
  {
   "cell_type": "code",
   "execution_count": null,
   "metadata": {
    "collapsed": true
   },
   "outputs": [],
   "source": [
    "# Set the parameters by cross-validation\n",
    "tuned_parameters = [{'kernel': ['rbf'], 'gamma': [1e-3, 1e-4],\n",
    "                     'C': [1, 10, 100, 1000]},\n",
    "                    {'kernel': ['linear'], 'C': [1, 10, 100, 1000]}]\n",
    "\n",
    "scores = ['precision', 'recall']\n",
    "\n",
    "for score in scores:\n",
    "    print(\"# Tuning hyper-parameters for %s\" % score)\n",
    "    print()\n",
    "\n",
    "    clf = GridSearchCV(SVC(C=1), tuned_parameters, cv=5, scoring=score)\n",
    "    clf.fit(X_train, y_train)\n",
    "\n",
    "    print(\"Best parameters set found on development set:\")\n",
    "    print()\n",
    "    print(clf.best_estimator_)\n",
    "    print()\n",
    "    print(\"Grid scores on development set:\")"
   ]
  },
  {
   "cell_type": "markdown",
   "metadata": {
    "collapsed": false
   },
   "source": [
    "# Random Forests"
   ]
  },
  {
   "cell_type": "markdown",
   "metadata": {
    "collapsed": false
   },
   "source": [
    "\n",
    "\n"
   ]
  },
  {
   "cell_type": "code",
   "execution_count": 2,
   "metadata": {
    "collapsed": false
   },
   "outputs": [
    {
     "data": {
      "text/html": [
       "<div>\n",
       "<table border=\"1\" class=\"dataframe\">\n",
       "  <thead>\n",
       "    <tr style=\"text-align: right;\">\n",
       "      <th></th>\n",
       "      <th>days_between_adj_5</th>\n",
       "      <th>log_price_adj_3</th>\n",
       "      <th>interest_adj_13</th>\n",
       "      <th>feature_count_adj_25</th>\n",
       "      <th>bathrooms_adj_4</th>\n",
       "      <th>descript_len_adj_11</th>\n",
       "      <th>bedrooms_adj_3</th>\n",
       "      <th>mgmt_list_count</th>\n",
       "      <th>feature_count</th>\n",
       "      <th>descript_len</th>\n",
       "      <th>...</th>\n",
       "      <th>bathrooms_adj_21</th>\n",
       "      <th>bathrooms_adj_22</th>\n",
       "      <th>bathrooms_adj_23</th>\n",
       "      <th>bathrooms_adj_24</th>\n",
       "      <th>bathrooms_adj_25</th>\n",
       "      <th>bathrooms_adj_26</th>\n",
       "      <th>bathrooms_adj_27</th>\n",
       "      <th>bathrooms_adj_28</th>\n",
       "      <th>bathrooms_adj_29</th>\n",
       "      <th>bathrooms_adj_30</th>\n",
       "    </tr>\n",
       "  </thead>\n",
       "  <tbody>\n",
       "    <tr>\n",
       "      <th>0</th>\n",
       "      <td>1318</td>\n",
       "      <td>23.485804</td>\n",
       "      <td>19</td>\n",
       "      <td>130</td>\n",
       "      <td>4.0</td>\n",
       "      <td>5398</td>\n",
       "      <td>4</td>\n",
       "      <td>294</td>\n",
       "      <td>7</td>\n",
       "      <td>530</td>\n",
       "      <td>...</td>\n",
       "      <td>21.0</td>\n",
       "      <td>22.0</td>\n",
       "      <td>23.0</td>\n",
       "      <td>24.0</td>\n",
       "      <td>25.0</td>\n",
       "      <td>26.0</td>\n",
       "      <td>27.0</td>\n",
       "      <td>28.0</td>\n",
       "      <td>29.0</td>\n",
       "      <td>30.0</td>\n",
       "    </tr>\n",
       "    <tr>\n",
       "      <th>1</th>\n",
       "      <td>1173</td>\n",
       "      <td>24.941265</td>\n",
       "      <td>18</td>\n",
       "      <td>168</td>\n",
       "      <td>6.0</td>\n",
       "      <td>7174</td>\n",
       "      <td>7</td>\n",
       "      <td>64</td>\n",
       "      <td>6</td>\n",
       "      <td>804</td>\n",
       "      <td>...</td>\n",
       "      <td>23.0</td>\n",
       "      <td>24.0</td>\n",
       "      <td>26.0</td>\n",
       "      <td>27.0</td>\n",
       "      <td>28.0</td>\n",
       "      <td>29.0</td>\n",
       "      <td>30.0</td>\n",
       "      <td>31.0</td>\n",
       "      <td>33.0</td>\n",
       "      <td>34.0</td>\n",
       "    </tr>\n",
       "    <tr>\n",
       "      <th>2</th>\n",
       "      <td>1170</td>\n",
       "      <td>24.302001</td>\n",
       "      <td>21</td>\n",
       "      <td>127</td>\n",
       "      <td>4.0</td>\n",
       "      <td>6583</td>\n",
       "      <td>5</td>\n",
       "      <td>265</td>\n",
       "      <td>6</td>\n",
       "      <td>776</td>\n",
       "      <td>...</td>\n",
       "      <td>25.0</td>\n",
       "      <td>26.0</td>\n",
       "      <td>27.0</td>\n",
       "      <td>28.0</td>\n",
       "      <td>31.0</td>\n",
       "      <td>34.0</td>\n",
       "      <td>35.0</td>\n",
       "      <td>36.0</td>\n",
       "      <td>37.0</td>\n",
       "      <td>38.0</td>\n",
       "    </tr>\n",
       "    <tr>\n",
       "      <th>3</th>\n",
       "      <td>1189</td>\n",
       "      <td>23.654460</td>\n",
       "      <td>15</td>\n",
       "      <td>46</td>\n",
       "      <td>4.5</td>\n",
       "      <td>5388</td>\n",
       "      <td>5</td>\n",
       "      <td>235</td>\n",
       "      <td>0</td>\n",
       "      <td>565</td>\n",
       "      <td>...</td>\n",
       "      <td>23.0</td>\n",
       "      <td>24.0</td>\n",
       "      <td>25.0</td>\n",
       "      <td>26.0</td>\n",
       "      <td>27.0</td>\n",
       "      <td>28.0</td>\n",
       "      <td>29.0</td>\n",
       "      <td>30.0</td>\n",
       "      <td>31.0</td>\n",
       "      <td>32.0</td>\n",
       "    </tr>\n",
       "    <tr>\n",
       "      <th>4</th>\n",
       "      <td>1207</td>\n",
       "      <td>25.326354</td>\n",
       "      <td>17</td>\n",
       "      <td>195</td>\n",
       "      <td>6.0</td>\n",
       "      <td>6230</td>\n",
       "      <td>5</td>\n",
       "      <td>135</td>\n",
       "      <td>4</td>\n",
       "      <td>321</td>\n",
       "      <td>...</td>\n",
       "      <td>24.0</td>\n",
       "      <td>25.0</td>\n",
       "      <td>26.0</td>\n",
       "      <td>27.0</td>\n",
       "      <td>28.0</td>\n",
       "      <td>29.0</td>\n",
       "      <td>30.0</td>\n",
       "      <td>31.0</td>\n",
       "      <td>32.0</td>\n",
       "      <td>33.0</td>\n",
       "    </tr>\n",
       "  </tbody>\n",
       "</table>\n",
       "<p>5 rows × 822 columns</p>\n",
       "</div>"
      ],
      "text/plain": [
       "   days_between_adj_5  log_price_adj_3  interest_adj_13  feature_count_adj_25  \\\n",
       "0                1318        23.485804               19                   130   \n",
       "1                1173        24.941265               18                   168   \n",
       "2                1170        24.302001               21                   127   \n",
       "3                1189        23.654460               15                    46   \n",
       "4                1207        25.326354               17                   195   \n",
       "\n",
       "   bathrooms_adj_4  descript_len_adj_11  bedrooms_adj_3  mgmt_list_count  \\\n",
       "0              4.0                 5398               4              294   \n",
       "1              6.0                 7174               7               64   \n",
       "2              4.0                 6583               5              265   \n",
       "3              4.5                 5388               5              235   \n",
       "4              6.0                 6230               5              135   \n",
       "\n",
       "   feature_count  descript_len        ...         bathrooms_adj_21  \\\n",
       "0              7           530        ...                     21.0   \n",
       "1              6           804        ...                     23.0   \n",
       "2              6           776        ...                     25.0   \n",
       "3              0           565        ...                     23.0   \n",
       "4              4           321        ...                     24.0   \n",
       "\n",
       "   bathrooms_adj_22  bathrooms_adj_23  bathrooms_adj_24  bathrooms_adj_25  \\\n",
       "0              22.0              23.0              24.0              25.0   \n",
       "1              24.0              26.0              27.0              28.0   \n",
       "2              26.0              27.0              28.0              31.0   \n",
       "3              24.0              25.0              26.0              27.0   \n",
       "4              25.0              26.0              27.0              28.0   \n",
       "\n",
       "   bathrooms_adj_26  bathrooms_adj_27  bathrooms_adj_28  bathrooms_adj_29  \\\n",
       "0              26.0              27.0              28.0              29.0   \n",
       "1              29.0              30.0              31.0              33.0   \n",
       "2              34.0              35.0              36.0              37.0   \n",
       "3              28.0              29.0              30.0              31.0   \n",
       "4              29.0              30.0              31.0              32.0   \n",
       "\n",
       "   bathrooms_adj_30  \n",
       "0              30.0  \n",
       "1              34.0  \n",
       "2              38.0  \n",
       "3              32.0  \n",
       "4              33.0  \n",
       "\n",
       "[5 rows x 822 columns]"
      ]
     },
     "execution_count": 2,
     "metadata": {},
     "output_type": "execute_result"
    }
   ],
   "source": [
    "#Cross validate with grid search first to find number of trees, etc\n",
    "\n",
    "df = pd.read_csv('Final_Project_Variables-train.csv',sep = \",\", header = 0)\n",
    "#df = df.iloc[:,:50]\n",
    "#interest code is the response, take it out and call it response\n",
    "response = df['interest_code']\n",
    "df = df.drop(df.columns[[0,1,2]], axis=1)\n",
    "\n",
    "\n",
    "\n",
    "\n",
    "df.head()"
   ]
  },
  {
   "cell_type": "code",
   "execution_count": 3,
   "metadata": {
    "collapsed": false
   },
   "outputs": [
    {
     "name": "stdout",
     "output_type": "stream",
     "text": [
      "(49352, 822)\n"
     ]
    }
   ],
   "source": [
    "#define the numpy array\n",
    "X = np.array(df)\n",
    "y = np.array(response)\n",
    "print(X.shape)\n"
   ]
  },
  {
   "cell_type": "code",
   "execution_count": 4,
   "metadata": {
    "collapsed": false
   },
   "outputs": [
    {
     "name": "stdout",
     "output_type": "stream",
     "text": [
      "(44416, 822)\n",
      "(44416,)\n",
      "(4936,)\n",
      "(4936, 822)\n"
     ]
    }
   ],
   "source": [
    "#split the dataset into training and testing\n",
    "X_train, X_val, y_train, y_val = train_test_split(X, y, test_size=0.1)\n",
    "print(X_train.shape)\n",
    "print(y_train.shape)\n",
    "print(y_val.shape)\n",
    "print(X_val.shape)"
   ]
  },
  {
   "cell_type": "code",
   "execution_count": null,
   "metadata": {
    "collapsed": false
   },
   "outputs": [],
   "source": [
    "#random_forest model\n",
    "clf = RFC(n_jobs=-1,n_estimators=100, oob_score = True)\n",
    "clf.fit(X_train, y_train)\n",
    "y_val_pred = clf.predict_proba(X_val)\n",
    "log_loss(y_val, y_val_pred)"
   ]
  },
  {
   "cell_type": "code",
   "execution_count": null,
   "metadata": {
    "collapsed": false
   },
   "outputs": [],
   "source": [
    "#cross val\n",
    "param_grid = { \n",
    "    'n_estimators': [50,100,1000,2000],\n",
    "    'max_features': ['auto', 'sqrt', 'log2']\n",
    "    \n",
    "}\n",
    "\n",
    "CV_clf = GridSearchCV(estimator= clf, param_grid=param_grid, cv= 5)\n",
    "CV_clf.fit(X, y)\n",
    "print (CV_clf.best_params_)\n",
    "\n"
   ]
  },
  {
   "cell_type": "code",
   "execution_count": 5,
   "metadata": {
    "collapsed": false
   },
   "outputs": [
    {
     "data": {
      "text/plain": [
       "0.57228763059981624"
      ]
     },
     "execution_count": 5,
     "metadata": {},
     "output_type": "execute_result"
    }
   ],
   "source": [
    "clf = RFC(n_jobs=-1, n_estimators = 1000, oob_score = True)\n",
    "clf.fit(X_train, y_train)\n",
    "y_val_pred = clf.predict_proba(X_val)\n",
    "log_loss(y_val, y_val_pred)"
   ]
  },
  {
   "cell_type": "code",
   "execution_count": null,
   "metadata": {
    "collapsed": false
   },
   "outputs": [],
   "source": [
    "#print features\n",
    "importances = clf.feature_importances_\n",
    "\n",
    "std = np.std([tree.feature_importances_ for tree in clf.estimators_],\n",
    "             axis=0)\n",
    "indices = np.argsort(importances)[::-1]"
   ]
  },
  {
   "cell_type": "code",
   "execution_count": null,
   "metadata": {
    "collapsed": false
   },
   "outputs": [],
   "source": [
    "# Print the feature ranking\n",
    "print(\"Feature ranking:\")\n",
    "\n",
    "for f in range(X.shape[1]):\n",
    "    print(\"%d. feature %d (%f)\" % (f + 1, indices[f], importances[indices[f]]))\n",
    "\n",
    "# Plot the feature importances of the forest\n",
    "plt.figure()\n",
    "plt.title(\"Feature importances\")\n",
    "plt.bar(range(X.shape[1]), importances[indices],\n",
    "       color=\"r\", yerr=std[indices], align=\"center\")\n",
    "plt.xticks(range(X.shape[1]), indices)\n",
    "plt.xlim([-1, X.shape[1]])\n",
    "plt.show()"
   ]
  },
  {
   "cell_type": "code",
   "execution_count": null,
   "metadata": {
    "collapsed": true
   },
   "outputs": [],
   "source": [
    "#submit code in csv\n",
    "submission = pd.DataFrame({\n",
    "        \"listing_id\": X_val.index,\n",
    "        \"high\": y_val_pred[:,0],\n",
    "        \"medium\":y_val_pred[:,2],\n",
    "        \"low\":y_val_pred[:,1]\n",
    "    })\n",
    "    \n",
    "columnsTitles=[\"listing_id\",\"high\",\"medium\",\"low\"]\n",
    "submission=submission.reindex(columns=columnsTitles)\n",
    "submission.to_csv('submission.csv', index=False)"
   ]
  }
 ],
 "metadata": {
  "anaconda-cloud": {},
  "kernelspec": {
   "display_name": "Python [Root]",
   "language": "python",
   "name": "Python [Root]"
  },
  "language_info": {
   "codemirror_mode": {
    "name": "ipython",
    "version": 3
   },
   "file_extension": ".py",
   "mimetype": "text/x-python",
   "name": "python",
   "nbconvert_exporter": "python",
   "pygments_lexer": "ipython3",
   "version": "3.5.2"
  }
 },
 "nbformat": 4,
 "nbformat_minor": 0
}
